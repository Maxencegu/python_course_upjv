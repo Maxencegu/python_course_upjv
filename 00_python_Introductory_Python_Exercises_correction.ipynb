{
  "nbformat": 4,
  "nbformat_minor": 0,
  "metadata": {
    "colab": {
      "provenance": [],
      "authorship_tag": "ABX9TyML/afNyTTIeQeHYy7VbMd1",
      "include_colab_link": true
    },
    "kernelspec": {
      "name": "python3",
      "display_name": "Python 3"
    },
    "language_info": {
      "name": "python"
    }
  },
  "cells": [
    {
      "cell_type": "markdown",
      "metadata": {
        "id": "view-in-github",
        "colab_type": "text"
      },
      "source": [
        "<a href=\"https://colab.research.google.com/github/Maxencegu/python_course_upjv/blob/main/00_python_Introductory_Python_Exercises_correction.ipynb\" target=\"_parent\"><img src=\"https://colab.research.google.com/assets/colab-badge.svg\" alt=\"Open In Colab\"/></a>"
      ]
    },
    {
      "cell_type": "markdown",
      "source": [
        "---\n",
        "\n",
        "<center>\n",
        "\n",
        "# **Python for Data Science**\n",
        "\n",
        "### *Introductory Python Exercises*\n",
        "\n",
        "</center>"
      ],
      "metadata": {
        "id": "ba1Yh1H0Nwsg"
      }
    },
    {
      "cell_type": "markdown",
      "source": [
        "<center>\n",
        "\n",
        "## **Exercise 1: Basic Variable Operations in Python**\n",
        "\n",
        "</center>\n",
        "\n",
        "---\n",
        "\n",
        "- (a) Assign the following values to variables and print them in a single sentence:\n",
        "  - name: \"Alice\"\n",
        "  - age: 25\n",
        "  - city: \"New York\"\n",
        "- (b) Given two variables:\n",
        "``` python\n",
        "x = 10\n",
        "y = 20\n",
        "```\n",
        "Swap the values of x and y without using a third variable. Then print the values of x and y.\n",
        "- (c) Create three variables:\n",
        "  - a with the value 15\n",
        "  - b with the value 10\n",
        "  - c with the value 5\n",
        "\n",
        "  Using these variables, calculate and print:\n",
        "  - The sum of the three variables.\n",
        "  - The product of the three variables.\n",
        "  - The result of a - b + c."
      ],
      "metadata": {
        "id": "nz-5DcY9qVb3"
      }
    },
    {
      "cell_type": "code",
      "source": [
        "nom = \"Alice\"\n",
        "age = 25\n",
        "ville = \"New York\"\n",
        "\n",
        "print(f\"Je m'appelle {nom}, j'ai {age} ans et j'habite à {ville}\")\n",
        "\n",
        "x = 10\n",
        "y = 20\n",
        "x,y = y,x\n",
        "print(f\"valeur de x : {x} et valeur de y : {y}\")\n",
        "\n",
        "a = 15\n",
        "b = 10\n",
        "c = 5\n",
        "\n",
        "print(f\"La somme = {a+b+c}\")\n",
        "print(f\"le produit = {a*b*c}\")\n",
        "print(f\"a-b+c = {a-b+c}\")"
      ],
      "metadata": {
        "id": "2zrUAIBQrlvx",
        "colab": {
          "base_uri": "https://localhost:8080/"
        },
        "outputId": "5b3890f7-f6b2-4313-8ff7-e229d9b7a18f"
      },
      "execution_count": 11,
      "outputs": [
        {
          "output_type": "stream",
          "name": "stdout",
          "text": [
            "Je m'appelle Alice, j'ai 25 ans et j'habite à New York\n",
            "valeur de x : 20 et valeur de y : 10\n",
            "La somme = 30\n",
            "le produit = 750\n",
            "a-b+c = 10\n"
          ]
        }
      ]
    },
    {
      "cell_type": "markdown",
      "source": [
        "---\n",
        "\n",
        "<center>\n",
        "\n",
        "## **Exercise 2: List and String Indexing in Python**\n",
        "\n",
        "</center>\n",
        "\n",
        "---\n",
        "\n",
        "- (a) Given the list:\n",
        "```python\n",
        "fruits = [\"apple\", \"banana\", \"cherry\", \"date\", \"elderberry\"]\n",
        "```\n",
        "Print the second and the last element of the list using indexing.\n",
        "\n",
        "- (b) Given the string:\n",
        "```python\n",
        "word = \"programming\"\n",
        "```\n",
        "Print the first, middle, and last character of the string using indexing.\n",
        "Hint: Use len() to find the middle index if needed.\n",
        "\n",
        "- (c) Given the list:\n",
        "```python\n",
        "numbers = [0, 1, 2, 3, 4, 5, 6, 7, 8, 9]\n",
        "```\n",
        "Create and print a new list that contains:\n",
        "  - The first five elements.\n",
        "  - The elements from index 3 to 7 (inclusive).\n",
        "  - The list in reverse order."
      ],
      "metadata": {
        "id": "M6pYMVmxr1eP"
      }
    },
    {
      "cell_type": "code",
      "source": [
        "fruits =  [\"apple\", \"banana\", \"cherry\", \"date\", \"elderberry\"]\n",
        "print(f\"1er élément = {fruits[0]}\")\n",
        "print(f\"dernier élément = {fruits[-1]}\")\n",
        "\n",
        "word = \"programming\"\n",
        "print(f\"Premier caractère : {word[0]}\")\n",
        "print(f\"Milieu caractère: {word[len(word)//2]}\")\n",
        "print(f\"Dernier caractère : {word[-1]}\")\n",
        "\n",
        "numbers = [0, 1, 2, 3, 4, 5, 6, 7, 8, 9]\n",
        "new_numbers = numbers[:5]\n",
        "print(f\"cinq premiers éléments : {new_numbers}\")\n",
        "new_numbers = numbers[3:8]\n",
        "print(f\"3 à 7 (inclus) éléments : {new_numbers}\")\n",
        "new_numbers = numbers[::-1]\n",
        "print(f\"inversés) éléments : {new_numbers}\")"
      ],
      "metadata": {
        "id": "uYFmuVSVt25m",
        "colab": {
          "base_uri": "https://localhost:8080/"
        },
        "outputId": "a2697c91-025b-4fdf-8ae5-270be65f6dc5"
      },
      "execution_count": 10,
      "outputs": [
        {
          "output_type": "stream",
          "name": "stdout",
          "text": [
            "1er élément = apple\n",
            "dernier élément = elderberry\n",
            "Premier caractère : p\n",
            "Milieu caractère: a\n",
            "Dernier caractère : g\n",
            "cinq premiers éléments : [0, 1, 2, 3, 4]\n",
            "3 à 7 (inclus) éléments : [3, 4, 5, 6, 7]\n",
            "inversés) éléments : [9, 8, 7, 6, 5, 4, 3, 2, 1, 0]\n"
          ]
        }
      ]
    },
    {
      "cell_type": "markdown",
      "source": [
        "---\n",
        "\n",
        "<center>\n",
        "\n",
        "## **Exercise 3: List Methods in Python**\n",
        "\n",
        "</center>\n",
        "\n",
        "---\n",
        "\n",
        "- (a) Given the list:\n",
        "```python\n",
        "numbers = [10, 20, 30, 40, 50]\n",
        "```\n",
        "Remove the last element of the list using the `pop` method and print the updated list along with the removed element.\n",
        "\n",
        "- (b) Given the string:\n",
        "```python\n",
        "fruits = [\"apple\", \"banana\", \"cherry\", \"banana\", \"date\"]\n",
        "```\n",
        "Remove the first occurrence of `\"banana\"` from the list using the `remove` method and print the updated list.\n",
        "\n",
        "- (c) Start with an empty list:\n",
        "```python\n",
        "colors = []\n",
        "```\n",
        "Add the following colors to the list one by one using the `append` method: `\"red\"`, `\"green\"`, `\"blue\"`. Then print the final list.\n",
        "\n",
        "- (d) Given the list:\n",
        "```python\n",
        "animals = [\"cat\", \"dog\", \"rabbit\"]\n",
        "```\n",
        "Insert `\"hamster\"` at index 1 using the `insert` method. Print the updated list.\n",
        "\n",
        "- (e) Given the list:\n",
        "```\n",
        "numbers = [5, 2, 9, 1, 5, 6]\n",
        "```\n",
        "Sort the list in ascending order using the `sort` method and print the sorted list."
      ],
      "metadata": {
        "id": "Nunjhxd6uRf-"
      }
    },
    {
      "cell_type": "code",
      "source": [
        "numbers = [10, 20, 30, 40, 50]\n",
        "element = numbers.pop()\n",
        "print(f\"élément supprimé : {element}\")\n",
        "print(f\"nouvelle liste numbers: {numbers}\")\n",
        "\n",
        "fruits = [\"apple\", \"banana\", \"cherry\", \"banana\", \"date\"]\n",
        "fruits.remove(\"banana\")\n",
        "print(f\"Nouvelle liste fruits : {fruits}\")\n",
        "\n",
        "colors = []\n",
        "colors.append(\"red\")\n",
        "colors.append(\"green\")\n",
        "colors.append(\"blue\")\n",
        "print(f\"Nouvelle liste colors : {colors}\")\n",
        "\n",
        "animals = [\"cat\", \"dog\", \"rabbit\"]\n",
        "animals.insert(1, \"hamster\")\n",
        "print(f\"Nouvelle liste animals : {animals}\")\n",
        "\n",
        "numbers = [5, 2, 9, 1, 5, 6]\n",
        "numbers.sort()\n",
        "print(f\"Nouvelle liste numbers : {numbers}\")"
      ],
      "metadata": {
        "id": "GV1iXNGHuQtH",
        "colab": {
          "base_uri": "https://localhost:8080/"
        },
        "outputId": "df3f2083-550a-4d4a-f448-bccfb25e8008"
      },
      "execution_count": 9,
      "outputs": [
        {
          "output_type": "stream",
          "name": "stdout",
          "text": [
            "élément supprimé : 50\n",
            "nouvelle liste numbers: [10, 20, 30, 40]\n",
            "Nouvelle liste fruits : ['apple', 'cherry', 'banana', 'date']\n",
            "Nouvelle liste colors : ['red', 'green', 'blue']\n",
            "Nouvelle liste animals : ['cat', 'hamster', 'dog', 'rabbit']\n",
            "Nouvelle liste numbers : [1, 2, 5, 5, 6, 9]\n"
          ]
        }
      ]
    },
    {
      "cell_type": "markdown",
      "source": [
        "---\n",
        "\n",
        "<center>\n",
        "\n",
        "## **Exercise 4: Tuples in Python**\n",
        "\n",
        "</center>\n",
        "\n",
        "---\n",
        "\n",
        "- (a) Given the tuple:\n",
        "```python\n",
        "colors = (\"red\", \"green\", \"blue\", \"yellow\")\n",
        "```\n",
        "Access the first and last elements of the tuple and print them using indexing.\n",
        "\n",
        "- (b) Given the tuple:\n",
        "```python\n",
        "numbers = (10, 20, 30, 40, 50)\n",
        "```\n",
        "Find the sum of all elements in the tuple.\n",
        "\n",
        "- (c) Given the tuple:\n",
        "```python\n",
        "my_tuple = (\"apple\", \"banana\", \"cherry\", \"date\")\n",
        "```\n",
        "Use a method to find the index of the element \"cherry\"."
      ],
      "metadata": {
        "id": "Kn3kSgK_wF_3"
      }
    },
    {
      "cell_type": "code",
      "source": [
        "colors = (\"red\", \"green\", \"blue\", \"yellow\")\n",
        "print(f\"1er élément : {colors[0]}\")\n",
        "print(f\"Dernier élément : {colors[-1]}\")\n",
        "\n",
        "numbers = (10, 20, 30, 40, 50)\n",
        "somme = 0\n",
        "for num in numbers:\n",
        "    somme += num\n",
        "somme = sum(numbers)\n",
        "print(f\"La somme de numbers: {somme}\")\n",
        "\n",
        "my_tuple = (\"apple\", \"banana\", \"cherry\", \"date\")\n",
        "index = my_tuple.index(\"cherry\")\n",
        "print(f\"Index de cherry : {index}\")"
      ],
      "metadata": {
        "id": "76GQp2KXw3xo",
        "colab": {
          "base_uri": "https://localhost:8080/"
        },
        "outputId": "80932767-55e9-41ee-a74a-c161866c94a2"
      },
      "execution_count": 8,
      "outputs": [
        {
          "output_type": "stream",
          "name": "stdout",
          "text": [
            "1er élément : red\n",
            "Dernier élément : yellow\n",
            "La somme de numbers: 150\n",
            "Index de cherry : 2\n"
          ]
        }
      ]
    },
    {
      "cell_type": "markdown",
      "source": [
        "---\n",
        "\n",
        "<center>\n",
        "\n",
        "## **Exercise 5: Dictionaries in Python**\n",
        "\n",
        "</center>\n",
        "\n",
        "---\n",
        "\n",
        "- (a) Given the dictionary:\n",
        "```python\n",
        "person = {\"name\": \"Alice\", \"age\": 25, \"city\": \"New York\"}\n",
        "```\n",
        "Access the values associated with the keys `\"name\"` and `\"city\"` and print them.\n",
        "\n",
        "- (b) Start with the dictionary:\n",
        "```python\n",
        "inventory = {\"apples\": 10, \"bananas\": 5}\n",
        "```\n",
        "  - Add a new key `\"oranges\"` with the value `8`.\n",
        "  - Update the value of `\"apples\"` to `15`. Print the updated dictionary.\n",
        "\n",
        "- (c) Given the dictionary:\n",
        "```python\n",
        "student = {\"name\": \"John\", \"grade\": \"A\", \"age\": 20, \"major\": \"Physics\"}\n",
        "```\n",
        "Remove the key `\"age\"` using the `pop` method and print the updated dictionary along with the removed value.\n",
        "\n",
        "- (d) Given the dictionary:\n",
        "```python\n",
        "scores = {\"Alice\": 90, \"Bob\": 85, \"Charlie\": 92}\n",
        "```\n",
        "Use a loop to print each key and its corresponding value in the format: `\"Alice: 90\"`."
      ],
      "metadata": {
        "id": "FyH1gmDJxMWs"
      }
    },
    {
      "cell_type": "code",
      "source": [
        "person = {\"name\": \"Alice\", \"age\": 25, \"city\": \"New York\"}\n",
        "\n",
        "for key, value in person.items():\n",
        "    print(f\"Key : {key}\")\n",
        "    print(f\"value : {value}\")\n",
        "\n",
        "inventory = {\"apples\": 10, \"bananas\": 5}\n",
        "inventory[\"oranges\"] = 8\n",
        "inventory[\"apples\"] = 15\n",
        "print(f\"Dictionnaire inventory : {inventory}\")\n",
        "\n",
        "student = {\"name\": \"John\", \"grade\": \"A\", \"age\": 20, \"major\": \"Physics\"}\n",
        "value = student.pop(\"age\")\n",
        "print(f\"valeur supprimée : {value}\")\n",
        "print(f\"Dictionnaire student : {student}\")\n",
        "\n",
        "scores = {\"Alice\" : 90, \"Bob\" : 85, \"Charlie\" : 92}\n",
        "for key, value in scores.items():\n",
        "    print(f\"{key}: {value}\")"
      ],
      "metadata": {
        "id": "rATy6ftEyRI9",
        "colab": {
          "base_uri": "https://localhost:8080/"
        },
        "outputId": "f2ca3710-94cc-49f5-cfae-aa52dec97356"
      },
      "execution_count": 7,
      "outputs": [
        {
          "output_type": "stream",
          "name": "stdout",
          "text": [
            "Key : name\n",
            "value : Alice\n",
            "Key : age\n",
            "value : 25\n",
            "Key : city\n",
            "value : New York\n",
            "Dictionnaire inventory : {'apples': 15, 'bananas': 5, 'oranges': 8}\n",
            "valeur supprimée : 20\n",
            "Dictionnaire student : {'name': 'John', 'grade': 'A', 'major': 'Physics'}\n",
            "Alice: 90\n",
            "Bob: 85\n",
            "Charlie: 92\n"
          ]
        }
      ]
    },
    {
      "cell_type": "markdown",
      "source": [
        "---\n",
        "\n",
        "<center>\n",
        "\n",
        "## **Exercise 6: Logical Operators in Python**\n",
        "\n",
        "</center>\n",
        "\n",
        "---\n",
        "\n",
        "- (a) Given the variables:\n",
        "```python\n",
        "x = 10\n",
        "y = 20\n",
        "```\n",
        "  - Check if `x` is greater than `5` and `y` is less than `30`. Print the result.\n",
        "  - Check if `x` is equal to `10` or `y` is greater than `3`. Print the result.\n",
        "\n",
        "- (b) Given the variables:\n",
        "```python\n",
        "age = 25\n",
        "has_permission = True\n",
        "```\n",
        "Check if the person is over 18 and has permission. Print the result.\n",
        "\n",
        "- (c) Given the variables:\n",
        "```python\n",
        "x = 50\n",
        "y = 100\n",
        "z = 75\n",
        "```\n",
        "Check if `z` is between `x` and `y`. Print the result."
      ],
      "metadata": {
        "id": "l_FCHHVjyXk8"
      }
    },
    {
      "cell_type": "code",
      "source": [
        "x = 10\n",
        "y = 20\n",
        "print(x > 5 and y < 30)\n",
        "print(x == 10 or y > 3)\n",
        "\n",
        "age = 25\n",
        "has_permission = True\n",
        "print(age > 18 and has_permission)\n",
        "\n",
        "x = 50\n",
        "y = 100\n",
        "z = 75\n",
        "print(x < z < y)"
      ],
      "metadata": {
        "id": "ypLZW8uhyS8q",
        "colab": {
          "base_uri": "https://localhost:8080/"
        },
        "outputId": "00d02c54-59b0-41cf-dffa-58f3430e073a"
      },
      "execution_count": 6,
      "outputs": [
        {
          "output_type": "stream",
          "name": "stdout",
          "text": [
            "True\n",
            "True\n",
            "True\n",
            "True\n"
          ]
        }
      ]
    },
    {
      "cell_type": "markdown",
      "source": [
        "---\n",
        "\n",
        "<center>\n",
        "\n",
        "## **Exercise 7: Control Structures (IF/ELSE) in Python**\n",
        "\n",
        "</center>\n",
        "\n",
        "---\n",
        "\n",
        "- (a) Write code to check if a number is positive, negative, or zero. Test it with the following variable:\n",
        "```python\n",
        "number = 1.618\n",
        "```\n",
        "\n",
        "- (b) Given the variables:\n",
        "```python\n",
        "age = 20\n",
        "has_ticket = True\n",
        "```\n",
        "Write a nested `if` statement to:\n",
        "  - Check if the person has a ticket:\n",
        "    - If yes, check if they are `18` or older and print `\"Entry allowed\"`.\n",
        "    - Otherwise, print `\"Entry denied. You must be 18 or older\"`.\n",
        "  - If they don’t have a ticket, print `\"No ticket, entry denied\"`.\n",
        "\n",
        "- (c) Write a Python program to check if a given number is even or odd. Test it with the following variable:\n",
        "```python\n",
        "number = 42\n",
        "```"
      ],
      "metadata": {
        "id": "1XBxUI_7zXMm"
      }
    },
    {
      "cell_type": "code",
      "source": [
        "number = 1.618\n",
        "if number > 0:\n",
        "    print(\"positif\")\n",
        "elif number < 0:\n",
        "    print(\"négatif\")\n",
        "else:\n",
        "    print(\"null\")\n",
        "\n",
        "age = 13\n",
        "has_ticket = False\n",
        "if has_ticket:\n",
        "    if age >= 18:\n",
        "        print(\"Entrée autorisée\")\n",
        "    else:\n",
        "        print(\"Entrée refusée. Vous devez avoir 18 ans ou plus\")\n",
        "else:\n",
        "    print(\"Pas de ticket, entrée refusée\")\n",
        "\n",
        "number = 53\n",
        "if number % 2 == 0:\n",
        "    print(\"Pair\")\n",
        "else:\n",
        "    print(\"Impair\")"
      ],
      "metadata": {
        "id": "TqiI6CFzzUhL",
        "colab": {
          "base_uri": "https://localhost:8080/"
        },
        "outputId": "502cce7c-e971-47aa-d78c-8965da9c55dc"
      },
      "execution_count": 5,
      "outputs": [
        {
          "output_type": "stream",
          "name": "stdout",
          "text": [
            "positif\n",
            "Pas de ticket, entrée refusée\n",
            "Impair\n"
          ]
        }
      ]
    },
    {
      "cell_type": "markdown",
      "source": [
        "---\n",
        "\n",
        "<center>\n",
        "\n",
        "## **Exercise 8: Loops in Python**\n",
        "\n",
        "</center>\n",
        "\n",
        "---\n",
        "\n",
        "- (a) Write a Python program that prints the multiplication table for 3 using a `for` loop. Expected output:\n",
        "```python\n",
        "3 x 1 = 3\n",
        "3 x 2 = 6\n",
        "3 x 3 = 9\n",
        "3 x 4 = 12\n",
        "3 x 5 = 15\n",
        "3 x 6 = 18\n",
        "3 x 7 = 21\n",
        "3 x 8 = 24\n",
        "3 x 9 = 27\n",
        "3 x 10 = 30\n",
        "```\n",
        "\n",
        "- (b) Using `range`, print the numbers from `1` to `10`.\n",
        "\n",
        "- (c) Given two lists:\n",
        "```python\n",
        "colors = [\"red\", \"green\", \"blue\"]\n",
        "shapes = [\"circle\", \"square\", \"triangle\"]\n",
        "```\n",
        "  - Use nested `for` loops to print each combination of color and shape (e.g., `\"red circle\"`, `\"green square\"`).\n",
        "  - Use `zip` method to obtain the same result.\n",
        "\n",
        "- (d) Given the following list:\n",
        "```python\n",
        "numbers = [70, 71, 72, 73, 74, 75, 76, 77, 78, 79, 80, 81, 82, 83, 84, 85, 86, 87, 88, 89, 90, 91, 92, 93, 94, 95, 96, 97, 98, 99]\n",
        "```\n",
        "Find the numbers that are multiples of `3` and `5`. Print the total `sum`."
      ],
      "metadata": {
        "id": "yte2ZPqi0WwR"
      }
    },
    {
      "cell_type": "code",
      "source": [
        "table = 3\n",
        "for i in range(1,11):\n",
        "    print(f\"{table} x {i} = {table*i}\")\n",
        "\n",
        "print([i for i in range(1,11)])\n",
        "\n",
        "colors = [\"red\", \"green\", \"blue\"]\n",
        "shapes = [\"circle\", \"square\", \"triangle\"]\n",
        "\n",
        "nouvelle_list = list(zip(colors, shapes))\n",
        "for elt in nouvelle_list:\n",
        "    print(f\"{elt[0]} {elt[1]}\")\n",
        "\n",
        "numbers = [70, 71, 72, 73, 74, 75, 76, 77, 78, 79, 80, 81, 82, 83, 84, 85, 86, 87, 88, 89, 90, 91, 92, 93, 94, 95, 96, 97, 98, 99]\n",
        "somme = 0\n",
        "for i in numbers:\n",
        "    if i % 3 == 0:\n",
        "        print(f\"Le nombre {i} est un multiple de 3\")\n",
        "        somme += i\n",
        "    elif i % 5 == 0:\n",
        "        print(f\"Le nombre {i} est un multiple de 5\")\n",
        "        somme += i\n",
        "print(f\"La somme des multiples est : {somme}\")"
      ],
      "metadata": {
        "id": "D74NSAMp0Uio",
        "colab": {
          "base_uri": "https://localhost:8080/"
        },
        "outputId": "a8a2fad0-46c2-411e-ba0c-179c366ce1c4"
      },
      "execution_count": 4,
      "outputs": [
        {
          "output_type": "stream",
          "name": "stdout",
          "text": [
            "3 x 1 = 3\n",
            "3 x 2 = 6\n",
            "3 x 3 = 9\n",
            "3 x 4 = 12\n",
            "3 x 5 = 15\n",
            "3 x 6 = 18\n",
            "3 x 7 = 21\n",
            "3 x 8 = 24\n",
            "3 x 9 = 27\n",
            "3 x 10 = 30\n",
            "[1, 2, 3, 4, 5, 6, 7, 8, 9, 10]\n",
            "red circle\n",
            "green square\n",
            "blue triangle\n",
            "Le nombre 70 est un multiple de 5\n",
            "Le nombre 72 est un multiple de 3\n",
            "Le nombre 75 est un multiple de 3\n",
            "Le nombre 78 est un multiple de 3\n",
            "Le nombre 80 est un multiple de 5\n",
            "Le nombre 81 est un multiple de 3\n",
            "Le nombre 84 est un multiple de 3\n",
            "Le nombre 85 est un multiple de 5\n",
            "Le nombre 87 est un multiple de 3\n",
            "Le nombre 90 est un multiple de 3\n",
            "Le nombre 93 est un multiple de 3\n",
            "Le nombre 95 est un multiple de 5\n",
            "Le nombre 96 est un multiple de 3\n",
            "Le nombre 99 est un multiple de 3\n",
            "La somme des multiples est : 1185\n"
          ]
        }
      ]
    },
    {
      "cell_type": "markdown",
      "source": [
        "---\n",
        "\n",
        "<center>\n",
        "\n",
        "## **Exercise 9: Functions in Python**\n",
        "\n",
        "</center>\n",
        "\n",
        "---\n",
        "\n",
        "- (a) Write a function `add_numbers(a, b)` that takes two parameters and returns their sum. Test the function by calling it with different pairs of numbers.\n",
        "\n",
        "- (b) Write a function `max_of_three(x, y, z)` that takes three numbers as arguments and returns the largest of the three. Test the function with different values.\n",
        "\n",
        "- (c) Write a function `is_palindrome(word)` that checks if the given string is a palindrome. A palindrome is a word that reads the same forwards and backwards. Test the function with words like \"madam\" and \"hello\".\n",
        "\n",
        "- (d) Write a function `convert_temperature(celsius)` that takes a temperature in Celsius and converts it to Fahrenheit using the formula:\n",
        "```python\n",
        "Fahrenheit = (Celsius * 9/5) + 32\n",
        "```\n",
        "Test the function with a value of 25 degrees Celsius.\n",
        "\n",
        "- (e) Write a function `count_vowels(s)` that takes a string s as input and returns the number of vowels (a, e, i, o, u) in the string. Test the function with a string like \"hello world\"."
      ],
      "metadata": {
        "id": "Et9k_9s41xRX"
      }
    },
    {
      "cell_type": "code",
      "source": [
        "def add_numbers(a,b):\n",
        "    return a + b\n",
        "\n",
        "print(add_numbers(2,3))\n",
        "print(add_numbers(4,3))\n",
        "\n",
        "def max_of_three(x, y, z):\n",
        "    my_list = (x,y,z)\n",
        "    return max(my_list)\n",
        "\n",
        "print(max_of_three(2,8,3))\n",
        "print(max_of_three(4,1,3))\n",
        "\n",
        "def is_palindrome(word):\n",
        "    return word[:] == word[::-1]\n",
        "\n",
        "print(is_palindrome(\"madam\"))\n",
        "print(is_palindrome(\"hello\"))\n",
        "\n",
        "def convert_temperature(celsius):\n",
        "    return (celsius * (9/5)) + 32\n",
        "\n",
        "print(convert_temperature(25))\n",
        "\n",
        "def count_vowels(s):\n",
        "    vowels = (\"a\", \"e\", \"i\", \"o\", \"u\")\n",
        "    count = 0\n",
        "    for elt in s:\n",
        "        if elt in vowels:\n",
        "            count += 1\n",
        "    return count\n",
        "\n",
        "print(count_vowels(\"hello world\"))"
      ],
      "metadata": {
        "id": "aAD8zBRC1uQG",
        "colab": {
          "base_uri": "https://localhost:8080/"
        },
        "outputId": "630c5efc-6a83-4b9f-971a-f2eb17c7e701"
      },
      "execution_count": 3,
      "outputs": [
        {
          "output_type": "stream",
          "name": "stdout",
          "text": [
            "5\n",
            "7\n",
            "8\n",
            "4\n",
            "True\n",
            "False\n",
            "77.0\n",
            "3\n"
          ]
        }
      ]
    },
    {
      "cell_type": "markdown",
      "source": [
        "---\n",
        "\n",
        "<center>\n",
        "\n",
        "## **Exercise 10: Problem Solving in Python**\n",
        "\n",
        "</center>\n",
        "\n",
        "---\n",
        "**These 5 questions require applying one or more concepts from the previous exercises.**\n",
        "\n",
        "\n",
        "- (a) Write a function `calculate_average(numbers)` that takes a list of numbers as input. Inside the function:\n",
        "  - Use a `loop` to calculate the `sum` of the numbers in the list.\n",
        "  - Return the `average` of the values in the list.\n",
        "\n",
        "  Test the function with the list:\n",
        "\n",
        "  ```python\n",
        "  numbers = [10, 20, 30, 40, 50]\n",
        "  ```\n",
        "\n",
        "- (b) Write a function `get_even_numbers(numbers)` that:\n",
        "  - Takes a list of integers as input.\n",
        "  - Uses `slicing` and a `loop` to find all `even` numbers.\n",
        "  - Returns a new list containing only the `even` numbers.\n",
        "\n",
        "  Test the function with the list:\n",
        "\n",
        "  ```python\n",
        "  numbers = [1, 2, 3, 4, 5, 6, 7, 8]\n",
        "  ```\n",
        "\n",
        "- (c) Write a function `word_count(sentence)` that:\n",
        "  - Takes a string as input.\n",
        "  - `Splits` the string into words and counts the frequency of each word using a dictionary.\n",
        "  - Returns the dictionary of `counted words`.\n",
        "\n",
        "  Test the function with the sentence:\n",
        "\n",
        "  ```python\n",
        "  sentence = \"this is a test this is only a test\"\n",
        "  ```\n",
        "\n",
        "- (d) Write a function `reverse_nested_lists(nested_list)` that:\n",
        "  - Takes a list of lists as input.\n",
        "  - Reverses each inner list using `slicing`.\n",
        "  - Returns the modified list of `reversed` inner lists.\n",
        "\n",
        "  Test the function with:\n",
        "  ```python\n",
        "  nested_list = [[1, 2, 3], [4, 5, 6], [7, 8, 9]]\n",
        "  ```\n",
        "\n",
        "- (e) Write a function `create_grades_dict(students, grades)` that:\n",
        "  - Takes two lists: `students` (a list of student names) and `grades` (a list of their corresponding grades).\n",
        "  - Creates and returns a `dictionary` where the keys are student names and the values are their grades.\n",
        "\n",
        "  Test the function with:\n",
        "  ```python\n",
        "  students = [\"Alice\", \"Bob\", \"Charlie\"]\n",
        "  grades = [85, 90, 78]\n",
        "  ```"
      ],
      "metadata": {
        "id": "eIbqE6703LCd"
      }
    },
    {
      "cell_type": "code",
      "source": [
        "def calculer_moyenne(nombres):\n",
        "    somme = sum(nombres)\n",
        "    return somme / len(nombres)\n",
        "\n",
        "numbers = [1, 2, 3, 4, 5, 6, 7, 8]\n",
        "print(calculer_moyenne(numbers))\n",
        "\n",
        "def word_count(sentence):\n",
        "    dico = {}\n",
        "    liste_mots = sentence.split(\" \")\n",
        "    for elt in liste_mots:\n",
        "        if elt in dico:\n",
        "            dico[elt] += 1\n",
        "        else:\n",
        "            dico[elt] = 1\n",
        "    return dico\n",
        "\n",
        "sentence = \"this is a test this is only a test\"\n",
        "print(word_count(sentence))\n",
        "\n",
        "def reverse_nested_lists(nested_list):\n",
        "    return [liste[::-1] for liste in nested_list]\n",
        "\n",
        "nested_list = [[1, 2, 3], [4, 5, 6], [7, 8, 9]]\n",
        "print(reverse_nested_lists(nested_list))\n",
        "\n",
        "def create_grades_dict(students, grades):\n",
        "    ma_liste = zip(students, grades)\n",
        "    dico = {}\n",
        "    for mon_tuple in ma_liste:\n",
        "        dico[mon_tuple[0]] = mon_tuple[1]\n",
        "    return dico\n",
        "\n",
        "students = [\"Alice\", \"Bob\", \"Charlie\"]\n",
        "grades = [85, 90, 78]\n",
        "print(create_grades_dict(students, grades))"
      ],
      "metadata": {
        "id": "WOFOxmCX3Ift",
        "colab": {
          "base_uri": "https://localhost:8080/"
        },
        "outputId": "bae22fd1-1f82-40d4-af32-25dd898d005b"
      },
      "execution_count": 2,
      "outputs": [
        {
          "output_type": "stream",
          "name": "stdout",
          "text": [
            "4.5\n",
            "{'this': 2, 'is': 2, 'a': 2, 'test': 2, 'only': 1}\n",
            "[[3, 2, 1], [6, 5, 4], [9, 8, 7]]\n",
            "{'Alice': 85, 'Bob': 90, 'Charlie': 78}\n"
          ]
        }
      ]
    },
    {
      "cell_type": "markdown",
      "source": [
        "---\n",
        "\n",
        "<center>\n",
        "\n",
        "## **Exercise 11: Problem Solving II (Increased Difficulty) in Python**\n",
        "\n",
        "</center>\n",
        "\n",
        "---\n",
        "\n",
        "- (a) Write a function `merge_dictionaries(dict1, dict2)` that:\n",
        "  - Takes two dictionaries as input.\n",
        "  - Merges them into a single dictionary. If the same key exists in both dictionaries, the value from dict2 should overwrite the value from dict1.\n",
        "  - Returns the merged dictionary.\n",
        "\n",
        "  Test the function with:\n",
        "\n",
        "  ```python\n",
        "  dict1 = {\"a\": 1, \"b\": 2, \"c\": 3}\n",
        "  dict2 = {\"b\": 4, \"d\": 5}\n",
        "  ```\n",
        "\n",
        "- (b) Write a function `second_largest(numbers)` that:\n",
        "  - Takes a list of `integers` as input.\n",
        "  - Finds and returns the second `largest number` in the list.\n",
        "  - Assume the list contains at least two distinct numbers.\n",
        "\n",
        "  Test the function with::\n",
        "\n",
        "  ```python\n",
        "  numbers = [5, 1, 9, 6, 7, 3]\n",
        "  ```\n",
        "\n",
        "- (c) Write a function `create_frequency_dict(lst)` that:\n",
        "  - Takes a list as input.\n",
        "  - Creates and returns a dictionary where the keys are the `unique elements` of the list and the values are their `frequencies`.\n",
        "\n",
        "  Test the function with:\n",
        "\n",
        "  ```python\n",
        "  lst = [\"apple\", \"banana\", \"apple\", \"orange\", \"banana\", \"apple\"]\n",
        "  ```\n",
        "\n",
        "- (d) Write a function reverse_vowels(s) that:\n",
        "  - Takes a string s as input.\n",
        "  - Reverses only the vowels in the string while keeping the other characters in place. For example, \"hello world\" becomes \"hollo werld\".\n",
        "  - Returns the modified string.\n",
        "\n",
        "  Test the function with:\n",
        "  ```python\n",
        "  s = \"hello world\"\n",
        "  ```\n",
        "\n",
        "- (e) Write a function `group_by_parity(numbers)` that:\n",
        "  - Takes a list of integers as input.\n",
        "  - Returns a dictionary with two keys: `\"even\"` and `\"odd\"`, where the values are lists of even and odd numbers, respectively.\n",
        "\n",
        "  Test the function with:\n",
        "  ```python\n",
        "  numbers = [1, 2, 3, 4, 5, 6, 7, 8]\n",
        "  ```"
      ],
      "metadata": {
        "id": "6kTSbmFl6DLQ"
      }
    },
    {
      "cell_type": "code",
      "source": [
        "def merge_dictionaries(dict1, dict2):\n",
        "    dico = dict1.copy()\n",
        "    for key, value in dict2.items():\n",
        "        dico[key] = value\n",
        "    return dico\n",
        "\n",
        "dict1 = {\"a\": 1, \"b\": 2, \"c\": 3}\n",
        "dict2 = {\"b\": 4, \"d\": 5}\n",
        "print(merge_dictionaries(dict1, dict2))\n",
        "\n",
        "def second_largest(numbers):\n",
        "    ma_liste = sorted(numbers)\n",
        "    return ma_liste[-2]\n",
        "\n",
        "numbers = [5, 1, 9, 6, 7, 3]\n",
        "print(second_largest(numbers))\n",
        "\n",
        "\n",
        "def create_frequency_dict(lst):\n",
        "    dico = {}\n",
        "    for elt in lst:\n",
        "        if elt in dico:\n",
        "            dico[elt] += 1\n",
        "        else:\n",
        "            dico[elt] = 1\n",
        "    return dico\n",
        "\n",
        "lst = [\"apple\", \"banana\", \"apple\", \"orange\", \"banana\", \"apple\"]\n",
        "print(create_frequency_dict(lst))\n",
        "\n",
        "def reverse_vowels(s):\n",
        "    vowels = (\"a\",\"e\",\"i\",\"o\",\"u\")\n",
        "    s_vowels = sorted([v for v in s if v in vowels], reverse=True)\n",
        "    phrase = [elt for elt in s]\n",
        "    index = 0\n",
        "    for k,v in enumerate(phrase):\n",
        "        if v in vowels:\n",
        "            phrase[k] = s_vowels[index]\n",
        "            index += 1\n",
        "    return \"\".join(phrase)\n",
        "\n",
        "s = \"hello world\"\n",
        "print(reverse_vowels(s))\n",
        "\n",
        "def group_by_parity(numbers):\n",
        "    dico = {\"even\": [], \"odd\": []}\n",
        "    for num in numbers:\n",
        "        if num % 2 == 0:\n",
        "            dico[\"even\"].append(num)\n",
        "        else:\n",
        "            dico[\"odd\"].append(num)\n",
        "    return dico\n",
        "\n",
        "numbers = [1, 2, 3, 4, 5, 6, 7, 8]\n",
        "print(group_by_parity(numbers))"
      ],
      "metadata": {
        "id": "9bD0R0tP6BLn",
        "colab": {
          "base_uri": "https://localhost:8080/"
        },
        "outputId": "11a9e186-70f4-46f1-ef88-5714e2febbbc"
      },
      "execution_count": 1,
      "outputs": [
        {
          "output_type": "stream",
          "name": "stdout",
          "text": [
            "{'a': 1, 'b': 4, 'c': 3, 'd': 5}\n",
            "7\n",
            "{'apple': 3, 'banana': 2, 'orange': 1}\n",
            "hollo werld\n",
            "{'even': [2, 4, 6, 8], 'odd': [1, 3, 5, 7]}\n"
          ]
        }
      ]
    }
  ]
}