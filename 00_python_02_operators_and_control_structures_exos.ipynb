{
  "nbformat": 4,
  "nbformat_minor": 0,
  "metadata": {
    "colab": {
      "provenance": [],
      "collapsed_sections": [
        "LIRHBptSvPc8"
      ],
      "authorship_tag": "ABX9TyNwZTiGwFirZbakkTkUZNer",
      "include_colab_link": true
    },
    "kernelspec": {
      "name": "python3",
      "display_name": "Python 3"
    },
    "language_info": {
      "name": "python"
    }
  },
  "cells": [
    {
      "cell_type": "markdown",
      "metadata": {
        "id": "view-in-github",
        "colab_type": "text"
      },
      "source": [
        "<a href=\"https://colab.research.google.com/github/Maxencegu/python_course_upjv/blob/main/00_python_02_operators_and_control_structures_exos.ipynb\" target=\"_parent\"><img src=\"https://colab.research.google.com/assets/colab-badge.svg\" alt=\"Open In Colab\"/></a>"
      ]
    },
    {
      "cell_type": "markdown",
      "source": [
        "---\n",
        "\n",
        "<center>\n",
        "\n",
        "# **Python for Data Science**\n",
        "\n",
        "### *Operators and control structures*\n",
        "\n",
        "</center>\n",
        "\n",
        "---"
      ],
      "metadata": {
        "id": "5GfFxDngvBc9"
      }
    },
    {
      "cell_type": "markdown",
      "source": [
        "## ⚙️ Initialization\n",
        "\n",
        "---\n",
        "\n",
        "Before starting, please **run the following cell once** to initialize the tests.  \n",
        "You need to do this **every time you open the notebook** (this loads the hidden tests).\n",
        "\n",
        "> ✅ Then, for each exercise, you can click on the \"Launch test\" button."
      ],
      "metadata": {
        "id": "LIRHBptSvPc8"
      }
    },
    {
      "cell_type": "code",
      "execution_count": null,
      "metadata": {
        "colab": {
          "base_uri": "https://localhost:8080/"
        },
        "cellView": "form",
        "id": "DP3C02FpvAoX",
        "outputId": "52eb9995-4496-48fd-fbd0-49d0d485b703"
      },
      "outputs": [
        {
          "output_type": "stream",
          "name": "stdout",
          "text": [
            "✅ Initialization complete! You can now run your exercises and test them using the buttons below each exercise.\n"
          ]
        }
      ],
      "source": [
        "# @title Initialization - Execute this cell ONCE at the start\n",
        "# ⚠️ DON'T MODIFY THIS CODE\n",
        "import os\n",
        "from IPython.display import display, Markdown,HTML\n",
        "from google.colab import output\n",
        "import subprocess\n",
        "\n",
        "# Remove the old hidden_tests file if it exists\n",
        "if os.path.exists(\"hidden_tests_00_python_02.py\"):\n",
        "    os.remove(\"hidden_tests_00_python_02.py\")\n",
        "\n",
        "# Download the latest version every time\n",
        "import subprocess\n",
        "subprocess.run([\n",
        "    \"wget\", \"-q\",\n",
        "    \"https://raw.githubusercontent.com/Maxencegu/python_course_upjv/main/hidden_tests_00_python_02.py\"\n",
        "])\n",
        "\n",
        "# Import the test functions\n",
        "from hidden_tests_00_python_02 import hidden_test_exo1, hidden_test_exo2, hidden_test_exo3, hidden_test_exo4\n",
        "\n",
        "# Generic callback function to run the test corresponding to the exercise name\n",
        "def _run_test(exo_name):\n",
        "    try:\n",
        "        g = globals()  # get student's variables dynamically\n",
        "        if exo_name == 'exo1':\n",
        "            result = hidden_test_exo1(g['x'], g['y'], g['sum_result'])\n",
        "        elif exo_name == 'exo2':\n",
        "            result = hidden_test_exo2(g['a'], g['b'], g['c'], g['total'], g['average'])\n",
        "        elif exo_name == 'exo3':\n",
        "            result = hidden_test_exo3(g['age_1'], g['age_2'], g['age_3'], g['category_1'], g['category_2'], g['category_3'])\n",
        "        elif exo_name == 'exo4':\n",
        "            result = hidden_test_exo4(g['number_1'], g['number_2'], g['number_3'], g['result_1'], g['result_2'], g['result_3'])\n",
        "        else:\n",
        "            result = \"❌ Unknown exercise.\"\n",
        "        display(Markdown(result))\n",
        "    except NameError as e:\n",
        "        display(Markdown(f\"❌ Missing variable: `{e}`\"))\n",
        "    except Exception as e:\n",
        "        display(Markdown(f\"❌ Error while running test for {exo_name}: `{e}`\"))\n",
        "\n",
        "# Register the callback in Colab\n",
        "output.register_callback('notebook.runTest', _run_test)\n",
        "\n",
        "print(\"✅ Initialization complete! You can now run your exercises and test them using the buttons below each exercise.\")"
      ]
    },
    {
      "cell_type": "markdown",
      "source": [
        "---\n",
        "\n",
        "<center>\n",
        "\n",
        "## **Operators and controls structures**\n",
        "\n",
        "</center>\n",
        "\n",
        "---"
      ],
      "metadata": {
        "id": "j-uic0zaJ_by"
      }
    },
    {
      "cell_type": "code",
      "source": [
        "# @title Exercise 1 (Easy) – Arithmetic Operators\n",
        "\n",
        "# (a) Create two variables with int values\n",
        "# (b) Calculate their sum\n",
        "# (c) Print a message\n",
        "\n",
        "# Student code starts here\n",
        "\n",
        "# Student code ends here\n",
        "\n",
        "# DON'T MODIFY THIS CODE :\n",
        "# Button to launch tests for this exercise\n",
        "print()\n",
        "from IPython.display import display, HTML\n",
        "display(HTML('''\n",
        "    <button onclick=\"google.colab.kernel.invokeFunction('notebook.runTest', ['exo1'], {})\">\n",
        "        ✅ Run test for exercise 1\n",
        "    </button>\n",
        "'''))"
      ],
      "metadata": {
        "colab": {
          "base_uri": "https://localhost:8080/",
          "height": 58
        },
        "id": "5HoJQuAKwJIF",
        "outputId": "4a68c62a-22b6-4555-91f8-ba7575a472fd"
      },
      "execution_count": null,
      "outputs": [
        {
          "output_type": "stream",
          "name": "stdout",
          "text": [
            "\n"
          ]
        },
        {
          "output_type": "display_data",
          "data": {
            "text/plain": [
              "<IPython.core.display.HTML object>"
            ],
            "text/html": [
              "\n",
              "    <button onclick=\"google.colab.kernel.invokeFunction('notebook.runTest', ['exo1'], {})\">\n",
              "        ✅ Run test for exercise 1\n",
              "    </button>\n"
            ]
          },
          "metadata": {}
        }
      ]
    },
    {
      "cell_type": "code",
      "source": [
        "# @title Exercise 2 (Medium) – Arithmetic Practice\n",
        "\n",
        "# (a) Define 3 variables\n",
        "# (b) Calculate the total\n",
        "# (c) Calculate the average\n",
        "\n",
        "# Student code ends here\n",
        "\n",
        "# Student code ends here\n",
        "\n",
        "# DON'T MODIFY THIS CODE :\n",
        "# Button to launch tests for this exercise\n",
        "print()\n",
        "from IPython.display import display, HTML\n",
        "display(HTML('''\n",
        "    <button onclick=\"google.colab.kernel.invokeFunction('notebook.runTest', ['exo2'], {})\">\n",
        "        ✅ Run test for exercise 2\n",
        "    </button>\n",
        "'''))"
      ],
      "metadata": {
        "colab": {
          "base_uri": "https://localhost:8080/",
          "height": 58
        },
        "id": "nqhpcmwayUCA",
        "outputId": "32b79da1-013b-4baf-d53b-f114d10b9b44"
      },
      "execution_count": null,
      "outputs": [
        {
          "output_type": "stream",
          "name": "stdout",
          "text": [
            "\n"
          ]
        },
        {
          "output_type": "display_data",
          "data": {
            "text/plain": [
              "<IPython.core.display.HTML object>"
            ],
            "text/html": [
              "\n",
              "    <button onclick=\"google.colab.kernel.invokeFunction('notebook.runTest', ['exo2'], {})\">\n",
              "        ✅ Run test for exercise 2\n",
              "    </button>\n"
            ]
          },
          "metadata": {}
        }
      ]
    },
    {
      "cell_type": "code",
      "source": [
        "# @title Exercise 3 (Intermediate) – Multiple Conditions\n",
        "\n",
        "# (a) Create a necessary variables with a beautiful name\n",
        "# (b) If age is less than 18: set a variable to \"Minor\"\n",
        "#     If age is between 18 and 65: set a variable to \"Adult\"\n",
        "#     If age is above 65: set a variable to \"Senior\"\n",
        "# (c) Test with 3 values\n",
        "# (d) Print the result\n",
        "\n",
        "# Student code starts here\n",
        "\n",
        "# Student code ends here\n",
        "\n",
        "# DON'T MODIFY THIS CODE :\n",
        "# Button to launch tests for this exercise\n",
        "print()\n",
        "from IPython.display import display, HTML\n",
        "display(HTML('''\n",
        "    <button onclick=\"google.colab.kernel.invokeFunction('notebook.runTest', ['exo3'], {})\">\n",
        "        ✅ Run test for exercise 3\n",
        "    </button>\n",
        "'''))"
      ],
      "metadata": {
        "colab": {
          "base_uri": "https://localhost:8080/",
          "height": 58
        },
        "id": "Fn36bH3Yzd02",
        "outputId": "1b091afd-5859-4eb5-e87a-30ad85d59062"
      },
      "execution_count": null,
      "outputs": [
        {
          "output_type": "stream",
          "name": "stdout",
          "text": [
            "\n"
          ]
        },
        {
          "output_type": "display_data",
          "data": {
            "text/plain": [
              "<IPython.core.display.HTML object>"
            ],
            "text/html": [
              "\n",
              "    <button onclick=\"google.colab.kernel.invokeFunction('notebook.runTest', ['exo3'], {})\">\n",
              "        ✅ Run test for exercise 3\n",
              "    </button>\n"
            ]
          },
          "metadata": {}
        }
      ]
    },
    {
      "cell_type": "code",
      "source": [
        "# @title Exercise 4 (Hard) – Arithmetic + Conditions\n",
        "\n",
        "# (a) Create a necessary variables with a beautiful name\n",
        "# (b) If it is divisible by 3 and odd:\n",
        "#     Print \"Divisible by 3 and odd\"\n",
        "# (c) Otherwise, print \"Does not meet the condition\"\n",
        "# (d) Test with 3 values\n",
        "\n",
        "# Student code starts here\n",
        "\n",
        "# Student code ends here\n",
        "\n",
        "# DON'T MODIFY THIS CODE :\n",
        "# Button to launch tests for this exercise\n",
        "print()\n",
        "from IPython.display import display, HTML\n",
        "display(HTML('''\n",
        "    <button onclick=\"google.colab.kernel.invokeFunction('notebook.runTest', ['exo4'], {})\">\n",
        "        ✅ Run test for exercise 4\n",
        "    </button>\n",
        "'''))"
      ],
      "metadata": {
        "colab": {
          "base_uri": "https://localhost:8080/",
          "height": 58
        },
        "id": "H45EdYFG0wQ3",
        "outputId": "3512645d-ab7c-4a6e-efa1-19327cc5962e"
      },
      "execution_count": null,
      "outputs": [
        {
          "output_type": "stream",
          "name": "stdout",
          "text": [
            "\n"
          ]
        },
        {
          "output_type": "display_data",
          "data": {
            "text/plain": [
              "<IPython.core.display.HTML object>"
            ],
            "text/html": [
              "\n",
              "    <button onclick=\"google.colab.kernel.invokeFunction('notebook.runTest', ['exo4'], {})\">\n",
              "        ✅ Run test for exercise 4\n",
              "    </button>\n"
            ]
          },
          "metadata": {}
        }
      ]
    }
  ]
}