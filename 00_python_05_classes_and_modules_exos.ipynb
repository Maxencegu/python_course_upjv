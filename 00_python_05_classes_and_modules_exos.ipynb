{
  "nbformat": 4,
  "nbformat_minor": 0,
  "metadata": {
    "colab": {
      "provenance": [],
      "authorship_tag": "ABX9TyNfuBJZ9C/GSq71UwXAoITQ",
      "include_colab_link": true
    },
    "kernelspec": {
      "name": "python3",
      "display_name": "Python 3"
    },
    "language_info": {
      "name": "python"
    }
  },
  "cells": [
    {
      "cell_type": "markdown",
      "metadata": {
        "id": "view-in-github",
        "colab_type": "text"
      },
      "source": [
        "<a href=\"https://colab.research.google.com/github/Maxencegu/python_course_upjv/blob/main/00_python_05_classes_and_modules_exos.ipynb\" target=\"_parent\"><img src=\"https://colab.research.google.com/assets/colab-badge.svg\" alt=\"Open In Colab\"/></a>"
      ]
    },
    {
      "cell_type": "markdown",
      "source": [
        "---\n",
        "\n",
        "<center>\n",
        "\n",
        "# **Python for Data Science**\n",
        "\n",
        "### *Classes and modules*\n",
        "\n",
        "</center>\n",
        "\n",
        "---"
      ],
      "metadata": {
        "id": "ba1Yh1H0Nwsg"
      }
    },
    {
      "cell_type": "markdown",
      "source": [
        "## ⚙️ Initialization\n",
        "\n",
        "---\n",
        "\n",
        "Before starting, please **run the following cell once** to initialize the tests.  \n",
        "You need to do this **every time you open the notebook** (this loads the hidden tests).\n",
        "\n",
        "> ✅ Then, for each exercise, you can click on the \"Launch test\" button."
      ],
      "metadata": {
        "id": "TLrNERr8N3iX"
      }
    },
    {
      "cell_type": "code",
      "source": [
        "# @title Initialization - Execute this cell ONCE at the start\n",
        "# ⚠️ DON'T MODIFY THIS CODE\n",
        "import os\n",
        "from IPython.display import display, Markdown,HTML\n",
        "from google.colab import output\n",
        "import subprocess\n",
        "\n",
        "# Remove the old hidden_tests file if it exists\n",
        "if os.path.exists(\"hidden_tests_00_python_05.py\"):\n",
        "    os.remove(\"hidden_tests_00_python_05.py\")\n",
        "\n",
        "# Download the latest version every time\n",
        "import subprocess\n",
        "subprocess.run([\n",
        "    \"wget\", \"-q\",\n",
        "    \"https://raw.githubusercontent.com/Maxencegu/python_course_upjv/main/hidden_tests_00_python_05.py\"\n",
        "])\n",
        "\n",
        "# Import the test functions\n",
        "from hidden_tests_00_python_05 import hidden_test_exo1, hidden_test_exo2, hidden_test_exo3, hidden_test_exo4\n",
        "\n",
        "# Generic callback function to run the test corresponding to the exercise name\n",
        "def _run_test(exo_name):\n",
        "    try:\n",
        "        g = globals()  # get student's variables dynamically\n",
        "        if exo_name == 'exo1':\n",
        "            result = hidden_test_exo1(g['p1'], g['Person'])\n",
        "        elif exo_name == 'exo2':\n",
        "            result = hidden_test_exo2(g['p1'], g['Person'], g['message'])\n",
        "        elif exo_name == 'exo3':\n",
        "            result = hidden_test_exo3(g['p1'], g['p2'], g['ages'], g['result'])\n",
        "        elif exo_name == 'exo4':\n",
        "            result = hidden_test_exo4(g['circle_radius'], g['circle_area'])\n",
        "        else:\n",
        "            result = \"❌ Unknown exercise.\"\n",
        "        display(Markdown(result))\n",
        "    except NameError as e:\n",
        "        display(Markdown(f\"❌ Missing variable: `{e}`\"))\n",
        "    except Exception as e:\n",
        "        display(Markdown(f\"❌ Error while running test for {exo_name}: `{e}`\"))\n",
        "\n",
        "# Register the callback in Colab\n",
        "output.register_callback('notebook.runTest', _run_test)\n",
        "\n",
        "print(\"✅ Initialization complete! You can now run your exercises and test them using the buttons below each exercise.\")"
      ],
      "metadata": {
        "colab": {
          "base_uri": "https://localhost:8080/"
        },
        "cellView": "form",
        "id": "mPWs1aXkNz20",
        "outputId": "619509e9-9cdb-4b29-8628-052b7f757018"
      },
      "execution_count": 1,
      "outputs": [
        {
          "output_type": "stream",
          "name": "stdout",
          "text": [
            "✅ Initialization complete! You can now run your exercises and test them using the buttons below each exercise.\n"
          ]
        }
      ]
    },
    {
      "cell_type": "markdown",
      "source": [
        "---\n",
        "\n",
        "<center>\n",
        "\n",
        "## **Classes & Modules**\n",
        "\n",
        "</center>\n",
        "\n",
        "---"
      ],
      "metadata": {
        "id": "A-L4csSKOmia"
      }
    },
    {
      "cell_type": "markdown",
      "source": [
        "## **⚠️`FOR ALL EXERCICES, YOU MUST CREATE A CLASS`**"
      ],
      "metadata": {
        "id": "xt6NlWw4lxGz"
      }
    },
    {
      "cell_type": "code",
      "source": [
        "# @title Exercise 1 (Easy) – Basic Class Creation\n",
        "\n",
        "# (a) Create a Person with two mysterious attributes.\n",
        "# (b) Create an instance.\n",
        "# (c) Print the attributes.\n",
        "\n",
        "# Student code starts here\n",
        "\n",
        "# Student code ends here\n",
        "\n",
        "# DON'T MODIFY THIS CODE :\n",
        "# Button to launch tests for this exercise\n",
        "print()\n",
        "from IPython.display import display, HTML\n",
        "display(HTML('''\n",
        "    <button onclick=\"google.colab.kernel.invokeFunction('notebook.runTest', ['exo1'], {})\">\n",
        "        ✅ Run test for exercise 1\n",
        "    </button>\n",
        "'''))"
      ],
      "metadata": {
        "colab": {
          "base_uri": "https://localhost:8080/",
          "height": 58
        },
        "id": "iw-e0ruqOJol",
        "outputId": "73a40fcd-5c26-4803-b727-4bb4ad13a86f",
        "cellView": "form"
      },
      "execution_count": 2,
      "outputs": [
        {
          "output_type": "stream",
          "name": "stdout",
          "text": [
            "\n"
          ]
        },
        {
          "output_type": "display_data",
          "data": {
            "text/plain": [
              "<IPython.core.display.HTML object>"
            ],
            "text/html": [
              "\n",
              "    <button onclick=\"google.colab.kernel.invokeFunction('notebook.runTest', ['exo1'], {})\">\n",
              "        ✅ Run test for exercise 1\n",
              "    </button>\n"
            ]
          },
          "metadata": {}
        }
      ]
    },
    {
      "cell_type": "code",
      "source": [
        "# @title Exercise 2 (Medium) – Class Methods\n",
        "\n",
        "# (a) Add a method greet() in a Person that returns something of mysterious.\n",
        "# (b) Call this method and store the result.\n",
        "\n",
        "# Student code ends here\n",
        "\n",
        "# Student code ends here\n",
        "\n",
        "# DON'T MODIFY THIS CODE :\n",
        "# Button to launch tests for this exercise\n",
        "print()\n",
        "from IPython.display import display, HTML\n",
        "display(HTML('''\n",
        "    <button onclick=\"google.colab.kernel.invokeFunction('notebook.runTest', ['exo2'], {})\">\n",
        "        ✅ Run test for exercise 2\n",
        "    </button>\n",
        "'''))"
      ],
      "metadata": {
        "colab": {
          "base_uri": "https://localhost:8080/",
          "height": 58
        },
        "id": "v_qXQGAUOwBA",
        "outputId": "62946b37-49ba-4720-f78d-c44de70f9f24",
        "cellView": "form"
      },
      "execution_count": 3,
      "outputs": [
        {
          "output_type": "stream",
          "name": "stdout",
          "text": [
            "\n"
          ]
        },
        {
          "output_type": "display_data",
          "data": {
            "text/plain": [
              "<IPython.core.display.HTML object>"
            ],
            "text/html": [
              "\n",
              "    <button onclick=\"google.colab.kernel.invokeFunction('notebook.runTest', ['exo2'], {})\">\n",
              "        ✅ Run test for exercise 2\n",
              "    </button>\n"
            ]
          },
          "metadata": {}
        }
      ]
    },
    {
      "cell_type": "code",
      "source": [
        "# @title Exercise 3 (Intermediate) – Using Multiple Instances\n",
        "\n",
        "# (a) Create two instances for the Person.\n",
        "# (b) Store the numeric attribute in a list.\n",
        "# (c) Store the a calcul this attributes in a new variable.\n",
        "\n",
        "# Student code starts here\n",
        "\n",
        "# Student code ends here\n",
        "\n",
        "# DON'T MODIFY THIS CODE :\n",
        "# Button to launch tests for this exercise\n",
        "print()\n",
        "from IPython.display import display, HTML\n",
        "display(HTML('''\n",
        "    <button onclick=\"google.colab.kernel.invokeFunction('notebook.runTest', ['exo3'], {})\">\n",
        "        ✅ Run test for exercise 3\n",
        "    </button>\n",
        "'''))"
      ],
      "metadata": {
        "colab": {
          "base_uri": "https://localhost:8080/",
          "height": 58
        },
        "id": "CfQAq38aOyhH",
        "outputId": "60f97f87-16e8-4b25-995e-215f7bb3d6dd",
        "cellView": "form"
      },
      "execution_count": 4,
      "outputs": [
        {
          "output_type": "stream",
          "name": "stdout",
          "text": [
            "\n"
          ]
        },
        {
          "output_type": "display_data",
          "data": {
            "text/plain": [
              "<IPython.core.display.HTML object>"
            ],
            "text/html": [
              "\n",
              "    <button onclick=\"google.colab.kernel.invokeFunction('notebook.runTest', ['exo3'], {})\">\n",
              "        ✅ Run test for exercise 3\n",
              "    </button>\n"
            ]
          },
          "metadata": {}
        }
      ]
    },
    {
      "cell_type": "code",
      "source": [
        "# @title Exercise 4 (Hard) – Module and Class Interaction\n",
        "\n",
        "# (a) Import the modules math and random.\n",
        "# (b) Add a method that\n",
        "# - Generates a random radius between 2 values (use random.randint(a,b))\n",
        "# - Returns the area of a circle : r**2 * PI : round to 3 decimals\n",
        "# (c) Call the method and store the result.\n",
        "# (d) Also store the randomly generated radius in a variable.\n",
        "\n",
        "# Student code starts here\n",
        "\n",
        "# Student code ends here\n",
        "\n",
        "# DON'T MODIFY THIS CODE :\n",
        "# Button to launch tests for this exercise\n",
        "print()\n",
        "from IPython.display import display, HTML\n",
        "display(HTML('''\n",
        "    <button onclick=\"google.colab.kernel.invokeFunction('notebook.runTest', ['exo4'], {})\">\n",
        "        ✅ Run test for exercise 4\n",
        "    </button>\n",
        "'''))"
      ],
      "metadata": {
        "colab": {
          "base_uri": "https://localhost:8080/",
          "height": 58
        },
        "id": "OXVY4s-AO1bw",
        "outputId": "5149b2ac-34ca-4bb9-f544-2eae55f21c97",
        "cellView": "form"
      },
      "execution_count": 5,
      "outputs": [
        {
          "output_type": "stream",
          "name": "stdout",
          "text": [
            "\n"
          ]
        },
        {
          "output_type": "display_data",
          "data": {
            "text/plain": [
              "<IPython.core.display.HTML object>"
            ],
            "text/html": [
              "\n",
              "    <button onclick=\"google.colab.kernel.invokeFunction('notebook.runTest', ['exo4'], {})\">\n",
              "        ✅ Run test for exercise 4\n",
              "    </button>\n"
            ]
          },
          "metadata": {}
        }
      ]
    }
  ]
}