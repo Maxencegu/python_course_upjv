{
  "nbformat": 4,
  "nbformat_minor": 0,
  "metadata": {
    "colab": {
      "provenance": [],
      "authorship_tag": "ABX9TyO14cEevy9RuLz24XrmiYs5",
      "include_colab_link": true
    },
    "kernelspec": {
      "name": "python3",
      "display_name": "Python 3"
    },
    "language_info": {
      "name": "python"
    }
  },
  "cells": [
    {
      "cell_type": "markdown",
      "metadata": {
        "id": "view-in-github",
        "colab_type": "text"
      },
      "source": [
        "<a href=\"https://colab.research.google.com/github/Maxencegu/python_course_upjv/blob/main/00_python_04_functions_in_python_exos.ipynb\" target=\"_parent\"><img src=\"https://colab.research.google.com/assets/colab-badge.svg\" alt=\"Open In Colab\"/></a>"
      ]
    },
    {
      "cell_type": "markdown",
      "source": [
        "---\n",
        "\n",
        "<center>\n",
        "\n",
        "# **Python for Data Science**\n",
        "\n",
        "### *Functions in python*\n",
        "\n",
        "</center>\n",
        "\n",
        "---"
      ],
      "metadata": {
        "id": "ba1Yh1H0Nwsg"
      }
    },
    {
      "cell_type": "markdown",
      "source": [
        "## ⚙️ Initialization\n",
        "\n",
        "---\n",
        "\n",
        "Before starting, please **run the following cell once** to initialize the tests.  \n",
        "You need to do this **every time you open the notebook** (this loads the hidden tests).\n",
        "\n",
        "> ✅ Then, for each exercise, you can click on the \"Launch test\" button."
      ],
      "metadata": {
        "id": "TLrNERr8N3iX"
      }
    },
    {
      "cell_type": "code",
      "source": [
        "# @title Initialization - Execute this cell ONCE at the start\n",
        "# ⚠️ DON'T MODIFY THIS CODE\n",
        "import os\n",
        "from IPython.display import display, Markdown,HTML\n",
        "from google.colab import output\n",
        "import subprocess\n",
        "\n",
        "# Remove the old hidden_tests file if it exists\n",
        "if os.path.exists(\"hidden_tests_00_python_04.py\"):\n",
        "    os.remove(\"hidden_tests_00_python_04.py\")\n",
        "\n",
        "# Download the latest version every time\n",
        "import subprocess\n",
        "subprocess.run([\n",
        "    \"wget\", \"-q\",\n",
        "    \"https://raw.githubusercontent.com/Maxencegu/python_course_upjv/main/hidden_tests_00_python_04.py\"\n",
        "])\n",
        "\n",
        "# Import the test functions\n",
        "from hidden_tests_00_python_04 import hidden_test_exo1, hidden_test_exo2, hidden_test_exo3, hidden_test_exo4\n",
        "\n",
        "# Generic callback function to run the test corresponding to the exercise name\n",
        "def _run_test(exo_name):\n",
        "    try:\n",
        "        g = globals()  # get student's variables dynamically\n",
        "        if exo_name == 'exo1':\n",
        "            result = hidden_test_exo1(g['name'], g['message'])\n",
        "        elif exo_name == 'exo2':\n",
        "            result = hidden_test_exo2(g['num_1'], g['num_2'], g['num_3'], g['total'])\n",
        "        elif exo_name == 'exo3':\n",
        "            result = hidden_test_exo3(g['result_1'],g['result_2'], g['numbers'])\n",
        "        elif exo_name == 'exo4':\n",
        "            result = hidden_test_exo4(g['n'], g['cubes'])\n",
        "        else:\n",
        "            result = \"❌ Unknown exercise.\"\n",
        "        display(Markdown(result))\n",
        "    except NameError as e:\n",
        "        display(Markdown(f\"❌ Missing variable: `{e}`\"))\n",
        "    except Exception as e:\n",
        "        display(Markdown(f\"❌ Error while running test for {exo_name}: `{e}`\"))\n",
        "\n",
        "# Register the callback in Colab\n",
        "output.register_callback('notebook.runTest', _run_test)\n",
        "\n",
        "print(\"✅ Initialization complete! You can now run your exercises and test them using the buttons below each exercise.\")"
      ],
      "metadata": {
        "colab": {
          "base_uri": "https://localhost:8080/"
        },
        "cellView": "form",
        "id": "mPWs1aXkNz20",
        "outputId": "5e2811c5-efac-42f8-efbb-43f424b29032"
      },
      "execution_count": 7,
      "outputs": [
        {
          "output_type": "stream",
          "name": "stdout",
          "text": [
            "✅ Initialization complete! You can now run your exercises and test them using the buttons below each exercise.\n"
          ]
        }
      ]
    },
    {
      "cell_type": "markdown",
      "source": [
        "---\n",
        "\n",
        "<center>\n",
        "\n",
        "## **Functions in python**\n",
        "\n",
        "</center>\n",
        "\n",
        "---"
      ],
      "metadata": {
        "id": "A-L4csSKOmia"
      }
    },
    {
      "cell_type": "code",
      "source": [
        "# @title Exercise 1 (Easy) – Simple Greeting Function\n",
        "\n",
        "# (a) Create a function that takes a string name and returns \"...!\"\n",
        "# (b) Call the function with a name and store the result.\n",
        "\n",
        "# Student code starts here\n",
        "\n",
        "# Student code ends here\n",
        "\n",
        "# DON'T MODIFY THIS CODE :\n",
        "# Button to launch tests for this exercise\n",
        "print()\n",
        "from IPython.display import display, HTML\n",
        "display(HTML('''\n",
        "    <button onclick=\"google.colab.kernel.invokeFunction('notebook.runTest', ['exo1'], {})\">\n",
        "        ✅ Run test for exercise 1\n",
        "    </button>\n",
        "'''))"
      ],
      "metadata": {
        "colab": {
          "base_uri": "https://localhost:8080/",
          "height": 58
        },
        "id": "iw-e0ruqOJol",
        "outputId": "1d1f6f14-e811-4139-aa4e-cd4882e969f4"
      },
      "execution_count": 8,
      "outputs": [
        {
          "output_type": "stream",
          "name": "stdout",
          "text": [
            "\n"
          ]
        },
        {
          "output_type": "display_data",
          "data": {
            "text/plain": [
              "<IPython.core.display.HTML object>"
            ],
            "text/html": [
              "\n",
              "    <button onclick=\"google.colab.kernel.invokeFunction('notebook.runTest', ['exo1'], {})\">\n",
              "        ✅ Run test for exercise 1\n",
              "    </button>\n"
            ]
          },
          "metadata": {}
        }
      ]
    },
    {
      "cell_type": "code",
      "source": [
        "# @title Exercise 2 (Medium) – Sum Function with Multiple Values\n",
        "\n",
        "# (a) Create a function that returns the sum of three numbers.\n",
        "# (b) Call the function with 3 numbers and store the result.\n",
        "\n",
        "# Student code ends here\n",
        "\n",
        "# Student code ends here\n",
        "\n",
        "# DON'T MODIFY THIS CODE :\n",
        "# Button to launch tests for this exercise\n",
        "print()\n",
        "from IPython.display import display, HTML\n",
        "display(HTML('''\n",
        "    <button onclick=\"google.colab.kernel.invokeFunction('notebook.runTest', ['exo2'], {})\">\n",
        "        ✅ Run test for exercise 2\n",
        "    </button>\n",
        "'''))"
      ],
      "metadata": {
        "colab": {
          "base_uri": "https://localhost:8080/",
          "height": 58
        },
        "id": "v_qXQGAUOwBA",
        "outputId": "a945fb52-3cd1-4559-de33-5715f0f6d3a0"
      },
      "execution_count": 9,
      "outputs": [
        {
          "output_type": "stream",
          "name": "stdout",
          "text": [
            "\n"
          ]
        },
        {
          "output_type": "display_data",
          "data": {
            "text/plain": [
              "<IPython.core.display.HTML object>"
            ],
            "text/html": [
              "\n",
              "    <button onclick=\"google.colab.kernel.invokeFunction('notebook.runTest', ['exo2'], {})\">\n",
              "        ✅ Run test for exercise 2\n",
              "    </button>\n"
            ]
          },
          "metadata": {}
        }
      ]
    },
    {
      "cell_type": "code",
      "source": [
        "# @title Exercise 3 (Intermediate) – Function with Conditionals\n",
        "\n",
        "# (a) Create a function that returns True/False if n is even.\n",
        "# (b) Call the function with the 2 numbers and store results.\n",
        "\n",
        "# Student code starts here\n",
        "\n",
        "# Student code ends here\n",
        "\n",
        "# DON'T MODIFY THIS CODE :\n",
        "# Button to launch tests for this exercise\n",
        "print()\n",
        "from IPython.display import display, HTML\n",
        "display(HTML('''\n",
        "    <button onclick=\"google.colab.kernel.invokeFunction('notebook.runTest', ['exo3'], {})\">\n",
        "        ✅ Run test for exercise 3\n",
        "    </button>\n",
        "'''))"
      ],
      "metadata": {
        "colab": {
          "base_uri": "https://localhost:8080/",
          "height": 58
        },
        "id": "CfQAq38aOyhH",
        "outputId": "2e900c96-b441-488e-ed03-e5fd31ade83e"
      },
      "execution_count": 10,
      "outputs": [
        {
          "output_type": "stream",
          "name": "stdout",
          "text": [
            "\n"
          ]
        },
        {
          "output_type": "display_data",
          "data": {
            "text/plain": [
              "<IPython.core.display.HTML object>"
            ],
            "text/html": [
              "\n",
              "    <button onclick=\"google.colab.kernel.invokeFunction('notebook.runTest', ['exo3'], {})\">\n",
              "        ✅ Run test for exercise 3\n",
              "    </button>\n"
            ]
          },
          "metadata": {}
        }
      ]
    },
    {
      "cell_type": "code",
      "source": [
        "# @title Exercise 4 (Hard) – Function with Loop & Return List\n",
        "\n",
        "# (a) Create a function that returns a list.\n",
        "# (b) Call the function with a number and store the result.\n",
        "\n",
        "# Student code starts here\n",
        "\n",
        "# Student code ends here\n",
        "\n",
        "# DON'T MODIFY THIS CODE :\n",
        "# Button to launch tests for this exercise\n",
        "print()\n",
        "from IPython.display import display, HTML\n",
        "display(HTML('''\n",
        "    <button onclick=\"google.colab.kernel.invokeFunction('notebook.runTest', ['exo4'], {})\">\n",
        "        ✅ Run test for exercise 4\n",
        "    </button>\n",
        "'''))"
      ],
      "metadata": {
        "colab": {
          "base_uri": "https://localhost:8080/",
          "height": 58
        },
        "id": "OXVY4s-AO1bw",
        "outputId": "35ad35a8-98bc-42da-f308-cd4ddba27e28"
      },
      "execution_count": 11,
      "outputs": [
        {
          "output_type": "stream",
          "name": "stdout",
          "text": [
            "\n"
          ]
        },
        {
          "output_type": "display_data",
          "data": {
            "text/plain": [
              "<IPython.core.display.HTML object>"
            ],
            "text/html": [
              "\n",
              "    <button onclick=\"google.colab.kernel.invokeFunction('notebook.runTest', ['exo4'], {})\">\n",
              "        ✅ Run test for exercise 4\n",
              "    </button>\n"
            ]
          },
          "metadata": {}
        }
      ]
    }
  ]
}