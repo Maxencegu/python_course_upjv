{
  "nbformat": 4,
  "nbformat_minor": 0,
  "metadata": {
    "colab": {
      "provenance": [],
      "include_colab_link": true
    },
    "kernelspec": {
      "name": "python3",
      "display_name": "Python 3"
    },
    "language_info": {
      "name": "python"
    }
  },
  "cells": [
    {
      "cell_type": "markdown",
      "metadata": {
        "id": "view-in-github",
        "colab_type": "text"
      },
      "source": [
        "<a href=\"https://colab.research.google.com/drive/1s7AA0oDmFG3nmqwn4sZG2OAgFvZcqlNv?usp=sharing\" target=\"_parent\"><img src=\"https://colab.research.google.com/assets/colab-badge.svg\" alt=\"Open Exercises in Colab\"/></a>"
      ]
    },
    {
      "cell_type": "markdown",
      "source": [
        "---\n",
        "\n",
        "<center>\n",
        "\n",
        "# **Python for Data Science**\n",
        "\n",
        "### *Introduction: Variables and Types*\n",
        "\n",
        "</center>\n",
        "\n",
        "---\n"
      ],
      "metadata": {
        "id": "6UqIO5ZN7hD8"
      }
    },
    {
      "cell_type": "markdown",
      "source": [
        "<center>\n",
        "\n",
        "## **Introduction**\n",
        "\n",
        "</center>\n"
      ],
      "metadata": {
        "id": "8QLZXk-K9WUm"
      }
    },
    {
      "cell_type": "markdown",
      "source": [
        "---\n",
        "\n",
        "Python is a programming language known for its **readable**, **efficient**, and **easy-to-learn** syntax.  \n",
        "It has become one of the most widely used languages in **Data Science** thanks to powerful libraries such as:\n",
        "\n",
        "- [**Numpy**](https://numpy.org/) for scientific computing  \n",
        "- [**Pandas**](https://pandas.pydata.org/) for data processing and analysis  \n",
        "- [**Matplotlib**](https://matplotlib.org/) for creating plots and charts  \n",
        "- [**Scikit-learn**](https://scikit-learn.org/stable/) for training machine learning models  \n",
        "- *And many more!*\n",
        "\n",
        "---\n",
        "\n",
        "Python is not limited to data science: it also offers key features for enterprise integration, working seamlessly with **web services** and **databases**.\n",
        "\n",
        "---\n",
        "\n",
        "In this lesson, you will discover the basics of how to **store and structure data** in Python:\n",
        "\n",
        "- **Variables**\n",
        "- **Lists**\n",
        "- **Tuples**\n",
        "- **Dictionaries**\n",
        "\n",
        "---\n"
      ],
      "metadata": {
        "id": "PXA6UO-w8G2M"
      }
    },
    {
      "cell_type": "markdown",
      "source": [
        "<center>\n",
        "\n",
        "## **Variables**\n",
        "\n",
        "</center>\n"
      ],
      "metadata": {
        "id": "Wx72rTsmSgJ8"
      }
    },
    {
      "cell_type": "markdown",
      "source": [
        "---\n",
        "\n",
        "In Python, a variable is like a **named box** that holds information we want to use or change later in our program.\n",
        "\n",
        "To create a variable and store a value inside it, we simply write:\n",
        "\n",
        "```python\n",
        "my_variable = some_value\n",
        "```\n",
        "\n",
        "Here, my_variable is the name we chose, and it now holds the value some_value.\n",
        "\n",
        "Variables can store many different types of data, such as numbers and text:\n",
        "\n",
        "```python\n",
        "# Store an integer\n",
        "stars_count = 100\n",
        "\n",
        "# Create another variable based on the first one\n",
        "double_stars = stars_count * 2\n",
        "\n",
        "# Store a string instead\n",
        "stars_count = \"A hundred stars\"\n",
        "```\n",
        "Every time we use the = operator, the old value inside the variable is replaced by the new one.\n",
        "\n",
        "To see what value a variable currently holds, we can use the built-in print function:\n",
        "\n",
        "```python\n",
        "# Create some variables\n",
        "speed_of_light = 299_792_458  # in meters per second\n",
        "half_speed = speed_of_light / 2\n",
        "\n",
        "# Display them\n",
        "print(speed_of_light)\n",
        ">>> 299792458\n",
        "print(half_speed)\n",
        ">>> 149896229.0\n",
        "```\n"
      ],
      "metadata": {
        "id": "BVuC1fzDTLFl"
      }
    },
    {
      "cell_type": "markdown",
      "source": [
        "<center>\n",
        "\n",
        "## **Example: Working with Variables**\n",
        "\n",
        "</center>\n",
        "\n",
        "---\n",
        "\n",
        "Let's create some variables and perform basic operations:"
      ],
      "metadata": {
        "id": "R3nlEZbXU2Sr"
      }
    },
    {
      "cell_type": "code",
      "execution_count": null,
      "metadata": {
        "colab": {
          "base_uri": "https://localhost:8080/"
        },
        "id": "Ok4kVHoa7Q-b",
        "outputId": "5b753720-1e29-4c1e-d1da-efa373a3b3c5"
      },
      "outputs": [
        {
          "output_type": "stream",
          "name": "stdout",
          "text": [
            "Planet: Mars\n",
            "Distance from Earth (km): 225000000\n",
            "Estimated travel time (days): 300\n",
            "Average speed needed (km/day): 750000.0\n"
          ]
        }
      ],
      "source": [
        "# Assign values to variables\n",
        "planet = \"Mars\"\n",
        "distance_from_earth_km = 225_000_000\n",
        "days_to_travel = 300\n",
        "\n",
        "# Calculate average speed (km per day)\n",
        "average_speed = distance_from_earth_km / days_to_travel\n",
        "\n",
        "# Print the results\n",
        "print(\"Planet:\", planet)\n",
        "print(\"Distance from Earth (km):\", distance_from_earth_km)\n",
        "print(\"Estimated travel time (days):\", days_to_travel)\n",
        "print(\"Average speed needed (km/day):\", average_speed)"
      ]
    },
    {
      "cell_type": "markdown",
      "source": [
        "<center>\n",
        "\n",
        "## **Naming Variables in Python**\n",
        "\n",
        "</center>\n",
        "\n",
        "---"
      ],
      "metadata": {
        "id": "bcn76eKtWTBZ"
      }
    },
    {
      "cell_type": "markdown",
      "source": [
        "Variable names can be as simple as `x` or `y`, but they can also be more descriptive like `customer_orders_2023` or `total_revenue_q2`.\n",
        "\n",
        "When naming variables, Python requires you to follow some rules:\n",
        "\n",
        "- A variable name must start with a **letter** (a–z, A–Z) or an **underscore** (`_`).\n",
        "\n",
        "- It **cannot** start with a **number**.\n",
        "\n",
        "- Variable names can only include **letters**, **digits**, and **underscores**.\n",
        "\n",
        "- Variable names are **case-sensitive**. For example, `data_value`, `Data_Value`, and `DATA_VALUE` are considered three different variables.\n",
        "\n",
        "---\n",
        "\n",
        "Here are some valid and invalid variable names:\n",
        "\n",
        "```python\n",
        "_valid_name = 10          # valid\n",
        "speedOfLight = 299792458  # valid\n",
        "2fast2furious = \"Nope!\"   # invalid: starts with a digit\n",
        "total-sales = 1000        # invalid: contains a hyphen\n",
        "```"
      ],
      "metadata": {
        "id": "2wGo9fr-WVQv"
      }
    },
    {
      "cell_type": "markdown",
      "source": [],
      "metadata": {
        "id": "mDZZutPJV5an"
      }
    }
  ]
}
