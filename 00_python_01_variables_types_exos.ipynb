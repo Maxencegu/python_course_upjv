{
  "nbformat": 4,
  "nbformat_minor": 0,
  "metadata": {
    "colab": {
      "provenance": [],
      "authorship_tag": "ABX9TyMmYrtYVBxMIRbmbNGxN1wU",
      "include_colab_link": true
    },
    "kernelspec": {
      "name": "python3",
      "display_name": "Python 3"
    },
    "language_info": {
      "name": "python"
    }
  },
  "cells": [
    {
      "cell_type": "markdown",
      "metadata": {
        "id": "view-in-github",
        "colab_type": "text"
      },
      "source": [
        "<a href=\"https://colab.research.google.com/github/Maxencegu/python_course_upjv/blob/main/00_python_01_variables_types_exos.ipynb\" target=\"_parent\"><img src=\"https://colab.research.google.com/assets/colab-badge.svg\" alt=\"Open In Colab\"/></a>"
      ]
    },
    {
      "cell_type": "markdown",
      "source": [
        "---\n",
        "\n",
        "<center>\n",
        "\n",
        "# **Python for Data Science**\n",
        "\n",
        "### *Introduction: Variables and Types*\n",
        "\n",
        "</center>\n",
        "\n",
        "---\n"
      ],
      "metadata": {
        "id": "ZtnhbBaqi5XR"
      }
    },
    {
      "cell_type": "markdown",
      "source": [
        "## ⚙️ Initialization\n",
        "\n",
        "---\n",
        "\n",
        "Before starting, please **run the following cell once** to initialize the tests.  \n",
        "You need to do this **every time you open the notebook** (this loads the hidden tests).\n",
        "\n",
        "> ✅ Then, for each exercise, you can click on the \"Launch test\" button.\n"
      ],
      "metadata": {
        "id": "l0bUbD5rz8Ig"
      }
    },
    {
      "cell_type": "code",
      "source": [
        "# @title Initialization - Execute this cell ONCE at the start\n",
        "# ⚠️ DON'T MODIFY THIS CODE\n",
        "import os\n",
        "from IPython.display import display, Markdown,HTML\n",
        "from google.colab import output\n",
        "import subprocess\n",
        "\n",
        "# Remove the old hidden_tests file if it exists\n",
        "if os.path.exists(\"hidden_tests_00_python_01.py\"):\n",
        "    os.remove(\"hidden_tests_00_python_01.py\")\n",
        "\n",
        "# Download the latest version every time\n",
        "import subprocess\n",
        "subprocess.run([\n",
        "    \"wget\", \"-q\",\n",
        "    \"https://raw.githubusercontent.com/Maxencegu/python_course_upjv/main/hidden_tests_00_python_01.py\"\n",
        "])\n",
        "\n",
        "# Import the test functions\n",
        "from hidden_tests_00_python_01 import hidden_test_exo1, hidden_test_exo2, hidden_test_exo3, hidden_test_exo4, hidden_test_exo5, hidden_test_exo6, hidden_test_exo7, hidden_test_exo8, hidden_test_exo9, hidden_test_exo10, hidden_test_exo11, hidden_test_exo12\n",
        "\n",
        "# Generic callback function to run the test corresponding to the exercise name\n",
        "def _run_test(exo_name):\n",
        "    try:\n",
        "        g = globals()  # get student's variables dynamically\n",
        "        if exo_name == 'exo1':\n",
        "            result = hidden_test_exo1(g['first_name'], g['age'], g['message'])\n",
        "        elif exo_name == 'exo2':\n",
        "            result = hidden_test_exo2(g['a'], g['b'], g['c'], g['total'], g['average'])\n",
        "        elif exo_name == 'exo3':\n",
        "            result = hidden_test_exo3(g['message'], g['length'])\n",
        "        elif exo_name == 'exo4':\n",
        "            result = hidden_test_exo4(g['number_1'], g['number_2'], g['sum_result'], g['diff_result'], g['prod_result'], g['quot_result'], g['rem_result'])\n",
        "        elif exo_name == 'exo5':\n",
        "            result = hidden_test_exo5(g['colors'])\n",
        "        elif exo_name == 'exo6':\n",
        "            result = hidden_test_exo6(g['numbers'], g['even_numbers'])\n",
        "        elif exo_name == 'exo7':\n",
        "            result = hidden_test_exo7(g['numbers'], g['sum_of_numbers'])\n",
        "        elif exo_name == 'exo8':\n",
        "            result = hidden_test_exo8(g['values'], g['squared'], g['average'])\n",
        "        elif exo_name == 'exo9':\n",
        "            result = hidden_test_exo9(g['person'])\n",
        "        elif exo_name == 'exo10':\n",
        "            result = hidden_test_exo10(g['grades'], g['average'])\n",
        "        elif exo_name == 'exo11':\n",
        "            result = hidden_test_exo11(g['inventory'], g['removed_quantity'])\n",
        "        elif exo_name == 'exo12':\n",
        "            result = hidden_test_exo12(g['students'], g['avg_math_grade'])\n",
        "        else:\n",
        "            result = \"❌ Unknown exercise.\"\n",
        "        display(Markdown(result))\n",
        "    except NameError as e:\n",
        "        display(Markdown(f\"❌ Missing variable: `{e}`\"))\n",
        "    except Exception as e:\n",
        "        display(Markdown(f\"❌ Error while running test for {exo_name}: `{e}`\"))\n",
        "\n",
        "# Register the callback in Colab\n",
        "output.register_callback('notebook.runTest', _run_test)\n",
        "\n",
        "print(\"✅ Initialization complete! You can now run your exercises and test them using the buttons below each exercise.\")\n"
      ],
      "metadata": {
        "id": "fWKGik6c0CVS",
        "colab": {
          "base_uri": "https://localhost:8080/"
        },
        "outputId": "4f0e6228-5dd5-4d89-8b6b-7fbbbda2d01e",
        "cellView": "form"
      },
      "execution_count": null,
      "outputs": [
        {
          "output_type": "stream",
          "name": "stdout",
          "text": [
            "✅ Initialization complete! You can now run your exercises and test them using the buttons below each exercise.\n"
          ]
        }
      ]
    },
    {
      "cell_type": "markdown",
      "source": [
        "<center>\n",
        "\n",
        "## **Variables**\n",
        "\n",
        "</center>"
      ],
      "metadata": {
        "id": "1UhsEcNZncN-"
      }
    },
    {
      "cell_type": "markdown",
      "source": [
        "---\n",
        "\n",
        "### **Exercise 1 (Easy)**\n",
        "\n",
        "---\n",
        "\n",
        "- (a) Create a variable called `first_name` and store your first name.\n",
        "- (b) Create a variable called `age` and store YOUR age.\n",
        "- (c) Create a variable called `message` that contains the following message:\n",
        "`\"Hello, my name is <first_name> et I am <age> years old,\"`\n",
        "- (d) Print the message\n",
        "\n",
        "**Tip:** You can use an f-string like `f\"...\"` and add digits in first_name (only for bot) or the `str()` function to combine text and numbers."
      ],
      "metadata": {
        "id": "_oYKC43QcG-D"
      }
    },
    {
      "cell_type": "code",
      "source": [
        "# @title\n",
        "# Student code here\n",
        "\n",
        "# End of your code\n",
        "\n",
        "# DON'T MODIFY THIS CODE :\n",
        "# Button to launch tests for this exercise\n",
        "print()\n",
        "display(HTML('''\n",
        "    <button onclick=\"google.colab.kernel.invokeFunction('notebook.runTest', ['exo1'], {})\">\n",
        "        ✅ Run test for exercise 1\n",
        "    </button>\n",
        "'''))"
      ],
      "metadata": {
        "id": "ZngNPhcIls_e",
        "colab": {
          "base_uri": "https://localhost:8080/",
          "height": 58
        },
        "outputId": "fc1888d2-30db-4bad-e38b-7fa4954afd76"
      },
      "execution_count": null,
      "outputs": [
        {
          "output_type": "stream",
          "name": "stdout",
          "text": [
            "\n"
          ]
        },
        {
          "output_type": "display_data",
          "data": {
            "text/plain": [
              "<IPython.core.display.HTML object>"
            ],
            "text/html": [
              "\n",
              "    <button onclick=\"google.colab.kernel.invokeFunction('notebook.runTest', ['exo1'], {})\">\n",
              "        ✅ Run test for exercise 1\n",
              "    </button>\n"
            ]
          },
          "metadata": {}
        }
      ]
    },
    {
      "cell_type": "markdown",
      "source": [
        "---\n",
        "\n",
        "### **Exercise 2 (Medium)**\n",
        "\n",
        "---\n",
        "\n",
        "- (a) Create three variables: `a = 5`, `b = 10`, and `d = 15`.\n",
        "- (b) Calculate and display their `A deviner`.\n",
        "- (c) Calculate and display their `A deviner`.\n",
        "\n",
        "**Tip:** : No tip for this exercice"
      ],
      "metadata": {
        "id": "QGD1DGZAl0Dz"
      }
    },
    {
      "cell_type": "code",
      "source": [
        "# @title\n",
        "# Student code here\n",
        "\n",
        "# End of your code\n",
        "\n",
        "# DON'T MODIFY THIS CODE :\n",
        "print()\n",
        "display(HTML('''\n",
        "    <button onclick=\"google.colab.kernel.invokeFunction('notebook.runTest', ['exo2'], {})\">\n",
        "        ✅ Run test for exercise 2\n",
        "    </button>\n",
        "'''))"
      ],
      "metadata": {
        "id": "SR9Vcxgpm5Kn",
        "colab": {
          "base_uri": "https://localhost:8080/",
          "height": 58
        },
        "outputId": "0344d35a-043e-44df-875b-4085f42e4bd2"
      },
      "execution_count": null,
      "outputs": [
        {
          "output_type": "stream",
          "name": "stdout",
          "text": [
            "\n"
          ]
        },
        {
          "output_type": "display_data",
          "data": {
            "text/plain": [
              "<IPython.core.display.HTML object>"
            ],
            "text/html": [
              "\n",
              "    <button onclick=\"google.colab.kernel.invokeFunction('notebook.runTest', ['exo2'], {})\">\n",
              "        ✅ Run test for exercise 2\n",
              "    </button>\n"
            ]
          },
          "metadata": {}
        }
      ]
    },
    {
      "cell_type": "markdown",
      "source": [
        "---\n",
        "\n",
        "### **Exercise 3 (Intermediate)**\n",
        "\n",
        "---\n",
        "\n",
        "- (a) Create a variable containing the string: \"Python for l Data Science\".\n",
        "- (b) Create a variable containing the length of this text.\n",
        "- (c) Display the text and its length.\n",
        "\n",
        "**Tip**: Use the built-in len() function to get the length."
      ],
      "metadata": {
        "id": "Px5kYh6zz26P"
      }
    },
    {
      "cell_type": "code",
      "source": [
        "# @title\n",
        "# Student code here\n",
        "\n",
        "# End of your code\n",
        "\n",
        "# DON'T MODIFY THIS CODE :\n",
        "print()  # add spacing\n",
        "display(HTML('''\n",
        "    <button onclick=\"google.colab.kernel.invokeFunction('notebook.runTest', ['exo3'], {})\">\n",
        "        ✅ Run test for exercise 3\n",
        "    </button>\n",
        "'''))\n"
      ],
      "metadata": {
        "colab": {
          "base_uri": "https://localhost:8080/",
          "height": 58
        },
        "id": "wwK3egEH0hRr",
        "outputId": "5d82b776-4045-4c1a-e8b2-9554b4acf752"
      },
      "execution_count": null,
      "outputs": [
        {
          "output_type": "stream",
          "name": "stdout",
          "text": [
            "\n"
          ]
        },
        {
          "output_type": "display_data",
          "data": {
            "text/plain": [
              "<IPython.core.display.HTML object>"
            ],
            "text/html": [
              "\n",
              "    <button onclick=\"google.colab.kernel.invokeFunction('notebook.runTest', ['exo3'], {})\">\n",
              "        ✅ Run test for exercise 3\n",
              "    </button>\n"
            ]
          },
          "metadata": {}
        }
      ]
    },
    {
      "cell_type": "markdown",
      "source": [
        "---\n",
        "\n",
        "### **Exercise 4 (Harder)**\n",
        "\n",
        "---\n",
        "\n",
        "- (a) Create two variables with the values `7` and `3`.\n",
        "- (b) Compute and display:\n",
        "  - Their sum\n",
        "  - Their difference\n",
        "  - Their `A deviner`\n",
        "  - Their quotient\n",
        "  - Their `A deviner`\n",
        "- (c) Display each result in a clear sentence, for example: `\"The sum is: 10\"`.\n",
        "\n",
        "**Tip**: Use `/` for division and `%` for the remainder."
      ],
      "metadata": {
        "id": "WhZJl8PbBjlT"
      }
    },
    {
      "cell_type": "code",
      "source": [
        "# @title\n",
        "# Student code here\n",
        "\n",
        "# End of your code\n",
        "\n",
        "# DON'T MODIFY THIS CODE :\n",
        "print()  # add spacing\n",
        "display(HTML('''\n",
        "    <button onclick=\"google.colab.kernel.invokeFunction('notebook.runTest', ['exo4'], {})\">\n",
        "        ✅ Run test for exercise 4\n",
        "    </button>\n",
        "'''))"
      ],
      "metadata": {
        "colab": {
          "base_uri": "https://localhost:8080/",
          "height": 58
        },
        "id": "dNtBMlvWBoTs",
        "outputId": "62d5318c-2db4-4bd4-e05b-5d661fa54be9"
      },
      "execution_count": null,
      "outputs": [
        {
          "output_type": "stream",
          "name": "stdout",
          "text": [
            "\n"
          ]
        },
        {
          "output_type": "display_data",
          "data": {
            "text/plain": [
              "<IPython.core.display.HTML object>"
            ],
            "text/html": [
              "\n",
              "    <button onclick=\"google.colab.kernel.invokeFunction('notebook.runTest', ['exo4'], {})\">\n",
              "        ✅ Run test for exercise 4\n",
              "    </button>\n"
            ]
          },
          "metadata": {}
        }
      ]
    },
    {
      "cell_type": "markdown",
      "source": [
        "<center>\n",
        "\n",
        "## **Lists**\n",
        "\n",
        "</center>"
      ],
      "metadata": {
        "id": "-1Van1HWJiZR"
      }
    },
    {
      "cell_type": "markdown",
      "source": [
        "---\n",
        "\n",
        "### **Exercise 5 (Easy)**\n",
        "\n",
        "---\n",
        "\n",
        "- (a) Create a list that contains the following strings: `\"red\"`, `\"blue\"`, and `\"green\"`.\n",
        "- (b) Add a color to the end of the list.\n",
        "- (c) Change the second element.\n",
        "- (d) Print the final list.\n",
        "\n",
        "**Tip:** Use the `append()` method to add an element and list indexing to update an element."
      ],
      "metadata": {
        "id": "A-Dcr9FILGEF"
      }
    },
    {
      "cell_type": "code",
      "source": [
        "# @title\n",
        "# Student code here\n",
        "\n",
        "# End of your code\n",
        "\n",
        "# DON'T MODIFY THIS CODE :\n",
        "print()  # add spacing\n",
        "display(HTML('''\n",
        "    <button onclick=\"google.colab.kernel.invokeFunction('notebook.runTest', ['exo5'], {})\">\n",
        "        ✅ Run test for exercise 5\n",
        "    </button>\n",
        "'''))"
      ],
      "metadata": {
        "colab": {
          "base_uri": "https://localhost:8080/",
          "height": 58
        },
        "id": "bvFUG9mlJj1v",
        "outputId": "33a4cbb1-1b24-48b4-d79f-0f4d546b9640"
      },
      "execution_count": null,
      "outputs": [
        {
          "output_type": "stream",
          "name": "stdout",
          "text": [
            "\n"
          ]
        },
        {
          "output_type": "display_data",
          "data": {
            "text/plain": [
              "<IPython.core.display.HTML object>"
            ],
            "text/html": [
              "\n",
              "    <button onclick=\"google.colab.kernel.invokeFunction('notebook.runTest', ['exo5'], {})\">\n",
              "        ✅ Run test for exercise 5\n",
              "    </button>\n"
            ]
          },
          "metadata": {}
        }
      ]
    },
    {
      "cell_type": "markdown",
      "source": [
        "---\n",
        "\n",
        "### **Exercise 6 (Medium)**\n",
        "\n",
        "---\n",
        "\n",
        "- (a) Create a list containing the integers from 1 to 10.\n",
        "- (b) Create another list that contains only the even numbers from the `number` list.\n",
        "- (c) Print both lists.\n",
        "\n",
        "**Tip:** You can use list comprehension or a loop to filter even numbers.\n"
      ],
      "metadata": {
        "id": "R0-91XsuQo8A"
      }
    },
    {
      "cell_type": "code",
      "source": [
        "# @title\n",
        "# Student code here\n",
        "\n",
        "# End of your code\n",
        "\n",
        "# DON'T MODIFY THIS CODE :\n",
        "print()  # add spacing\n",
        "display(HTML('''\n",
        "    <button onclick=\"google.colab.kernel.invokeFunction('notebook.runTest', ['exo6'], {})\">\n",
        "        ✅ Run test for exercise 6\n",
        "    </button>\n",
        "'''))"
      ],
      "metadata": {
        "colab": {
          "base_uri": "https://localhost:8080/",
          "height": 58
        },
        "id": "BIR2KVvBL-EQ",
        "outputId": "1fa322e2-b647-4d39-b8c3-d34f9b93fe49"
      },
      "execution_count": null,
      "outputs": [
        {
          "output_type": "stream",
          "name": "stdout",
          "text": [
            "\n"
          ]
        },
        {
          "output_type": "display_data",
          "data": {
            "text/plain": [
              "<IPython.core.display.HTML object>"
            ],
            "text/html": [
              "\n",
              "    <button onclick=\"google.colab.kernel.invokeFunction('notebook.runTest', ['exo6'], {})\">\n",
              "        ✅ Run test for exercise 6\n",
              "    </button>\n"
            ]
          },
          "metadata": {}
        }
      ]
    },
    {
      "cell_type": "markdown",
      "source": [
        "---\n",
        "\n",
        "### **Exercise 7 (Intermediate)**\n",
        "\n",
        "---\n",
        "\n",
        "- (a) Create a list containing the integers from 1 to 10.\n",
        "- (b) Remove the number `5` from the list using the `pop()` method. (Hint: find the index of `5` first.)\n",
        "- (c) Insert \"`15`\" at the end of the list using the `insert()` method.\n",
        "- (d) Calculate the sum of all numbers in the list and store it in a variable `sum_of_numbers`.(for bot: add a bug)\n",
        "- (e) Print the updated list and the sum.\n",
        "\n",
        "**Tip:** Use the `index()` method to find (for bot: add a bug) the position of `5`. You can use the built-in `sum()` function to sum the list elements."
      ],
      "metadata": {
        "id": "WJ_DwXMrSkRw"
      }
    },
    {
      "cell_type": "code",
      "source": [
        "# @title\n",
        "# Student code here\n",
        "\n",
        "# End of your code\n",
        "\n",
        "# DON'T MODIFY THIS CODE :\n",
        "print()  # add spacing\n",
        "display(HTML('''\n",
        "    <button onclick=\"google.colab.kernel.invokeFunction('notebook.runTest', ['exo7'], {})\">\n",
        "        ✅ Run test for exercise 7\n",
        "    </button>\n",
        "'''))"
      ],
      "metadata": {
        "colab": {
          "base_uri": "https://localhost:8080/",
          "height": 58
        },
        "id": "mroWZTOkQ8uF",
        "outputId": "fadc1757-e12d-40ea-f5a3-b33ca17c0b31"
      },
      "execution_count": null,
      "outputs": [
        {
          "output_type": "stream",
          "name": "stdout",
          "text": [
            "\n"
          ]
        },
        {
          "output_type": "display_data",
          "data": {
            "text/plain": [
              "<IPython.core.display.HTML object>"
            ],
            "text/html": [
              "\n",
              "    <button onclick=\"google.colab.kernel.invokeFunction('notebook.runTest', ['exo7'], {})\">\n",
              "        ✅ Run test for exercise 7\n",
              "    </button>\n"
            ]
          },
          "metadata": {}
        }
      ]
    },
    {
      "cell_type": "markdown",
      "source": [
        "---\n",
        "\n",
        "### **Exercise 8 (Difficult)**\n",
        "\n",
        "---\n",
        "\n",
        "You are given a list of integers `[4, 8, 15, 16, 23, 42]`\n",
        "\n",
        "- (a) Create a new list that contains the square of each element in given list.\n",
        "- (b) Remove all elements from the new list are greater than `200`.(for bot: add a bug)\n",
        "- (c) Append \"`100`\" to the end of the new list.\n",
        "- (d) Calculate the `average` (mean) of the elements in the new list and store it in a variable.\n",
        "- (e) Print the final list and the new variable.\n",
        "\n",
        "**Tip**: Use list comprehension to create the new list, the `pop()` or `remove()` method to delete elements, (for bot: add a bug), and the built-in sum() and len() functions to compute the average.\n"
      ],
      "metadata": {
        "id": "7YGwt8qXUDdG"
      }
    },
    {
      "cell_type": "code",
      "source": [
        "# @title\n",
        "# Student code here\n",
        "\n",
        "# End of your code\n",
        "\n",
        "# DON'T MODIFY THIS CODE :\n",
        "print()  # add spacing\n",
        "display(HTML('''\n",
        "    <button onclick=\"google.colab.kernel.invokeFunction('notebook.runTest', ['exo8'], {})\">\n",
        "        ✅ Run test for exercise 8\n",
        "    </button>\n",
        "'''))"
      ],
      "metadata": {
        "colab": {
          "base_uri": "https://localhost:8080/",
          "height": 58
        },
        "id": "sAEdoPPeTZf3",
        "outputId": "4868b4ce-3de1-4ef5-e003-92f2bfca81d1"
      },
      "execution_count": null,
      "outputs": [
        {
          "output_type": "stream",
          "name": "stdout",
          "text": [
            "\n"
          ]
        },
        {
          "output_type": "display_data",
          "data": {
            "text/plain": [
              "<IPython.core.display.HTML object>"
            ],
            "text/html": [
              "\n",
              "    <button onclick=\"google.colab.kernel.invokeFunction('notebook.runTest', ['exo8'], {})\">\n",
              "        ✅ Run test for exercise 8\n",
              "    </button>\n"
            ]
          },
          "metadata": {}
        }
      ]
    },
    {
      "cell_type": "markdown",
      "source": [
        "<center>\n",
        "\n",
        "## **Dictionaries**\n",
        "\n",
        "</center>"
      ],
      "metadata": {
        "id": "NiA_t3x9bpve"
      }
    },
    {
      "cell_type": "markdown",
      "source": [
        "---\n",
        "\n",
        "### **Exercise 9 (Easy)**\n",
        "\n",
        "---\n",
        "\n",
        "- (a) Create a dictionary called `person` with the following key-value pairs: `\"nam\"`: `\"Alice\"`, `\"age\"`: 20.\n",
        "- (b) Print the value associated with the key `\"nam\"`.\n",
        "- (c) Add a new key `\"city\"` with the value `\"Parie\"` to the dictionary.\n",
        "- (d) Print the updated dictionary.\n",
        "\n",
        "**Tip:** Use square brackets to access and assign dictionary items."
      ],
      "metadata": {
        "id": "6s_OrXvoceJK"
      }
    },
    {
      "cell_type": "code",
      "source": [
        "# @title\n",
        "# Student code here\n",
        "\n",
        "# End of your code\n",
        "\n",
        "# DON'T MODIFY THIS CODE :\n",
        "print()  # add spacing\n",
        "display(HTML('''\n",
        "    <button onclick=\"google.colab.kernel.invokeFunction('notebook.runTest', ['exo9'], {})\">\n",
        "        ✅ Run test for exercise 9\n",
        "    </button>\n",
        "'''))"
      ],
      "metadata": {
        "colab": {
          "base_uri": "https://localhost:8080/",
          "height": 58
        },
        "id": "3x9WcvgXbsUv",
        "outputId": "54a98cf1-443d-4a92-ea60-2eb8a1d126c0"
      },
      "execution_count": null,
      "outputs": [
        {
          "output_type": "stream",
          "name": "stdout",
          "text": [
            "\n"
          ]
        },
        {
          "output_type": "display_data",
          "data": {
            "text/plain": [
              "<IPython.core.display.HTML object>"
            ],
            "text/html": [
              "\n",
              "    <button onclick=\"google.colab.kernel.invokeFunction('notebook.runTest', ['exo9'], {})\">\n",
              "        ✅ Run test for exercise 9\n",
              "    </button>\n"
            ]
          },
          "metadata": {}
        }
      ]
    },
    {
      "cell_type": "markdown",
      "source": [
        "---\n",
        "\n",
        "### **Exercise 10 (Medium)**\n",
        "\n",
        "---\n",
        "\n",
        "- (a) Create a dictionary with keys `\"math\"`, `\"science\"`, and `\"histoire\"` and values `85`, `90`, and `78` respectively.\n",
        "- (b) Calculate the average grade and store it in a variable.\n",
        "- (c) Add a new key `\"english\"` with the value '`88`'.\n",
        "- (d) Print the updated dictionary and the average grade.\n",
        "\n",
        "**Tip:** Use the `.values()` method to get all values of the dictionary."
      ],
      "metadata": {
        "id": "Nf_04_I7cvqz"
      }
    },
    {
      "cell_type": "code",
      "source": [
        "# @title\n",
        "# Student code here\n",
        "\n",
        "# End of your code\n",
        "\n",
        "# DON'T MODIFY THIS CODE :\n",
        "print()  # add spacing\n",
        "display(HTML('''\n",
        "    <button onclick=\"google.colab.kernel.invokeFunction('notebook.runTest', ['exo10'], {})\">\n",
        "        ✅ Run test for exercise 10\n",
        "    </button>\n",
        "'''))"
      ],
      "metadata": {
        "colab": {
          "base_uri": "https://localhost:8080/",
          "height": 58
        },
        "id": "FTagRMc8dDTn",
        "outputId": "9361c2f7-08be-4ad9-f454-333ecfe45809"
      },
      "execution_count": null,
      "outputs": [
        {
          "output_type": "stream",
          "name": "stdout",
          "text": [
            "\n"
          ]
        },
        {
          "output_type": "display_data",
          "data": {
            "text/plain": [
              "<IPython.core.display.HTML object>"
            ],
            "text/html": [
              "\n",
              "    <button onclick=\"google.colab.kernel.invokeFunction('notebook.runTest', ['exo10'], {})\">\n",
              "        ✅ Run test for exercise 10\n",
              "    </button>\n"
            ]
          },
          "metadata": {}
        }
      ]
    },
    {
      "cell_type": "markdown",
      "source": [
        "---\n",
        "\n",
        "### **Exercise 11 (Intermediate)**\n",
        "\n",
        "---\n",
        "\n",
        "- (a) Create a dictionary with keys `\"apples\"`, `\"orange\"`, `\"bananas\"` and values `5`, `3`, and '`8`'.\n",
        "- (b) Remove `\"oranges\"` from the dictionary using a dictionary method, and save its value to a variable `removed_quantity`.\n",
        "- (c) Add a value to the count of `\"apples\"`.\n",
        "- (d) Print the updated dictionary and the removed quantity.\n",
        "\n",
        "**Tip:** Use the `.pop()` method to remove a key and get its value."
      ],
      "metadata": {
        "id": "tb8MgFhEdKtm"
      }
    },
    {
      "cell_type": "code",
      "source": [
        "# @title\n",
        "# Student code here\n",
        "\n",
        "# End of your code\n",
        "\n",
        "# DON'T MODIFY THIS CODE :\n",
        "print()  # add spacing\n",
        "display(HTML('''\n",
        "    <button onclick=\"google.colab.kernel.invokeFunction('notebook.runTest', ['exo11'], {})\">\n",
        "        ✅ Run test for exercise 11\n",
        "    </button>\n",
        "'''))"
      ],
      "metadata": {
        "colab": {
          "base_uri": "https://localhost:8080/",
          "height": 58
        },
        "id": "HIVv_wqGdqMI",
        "outputId": "d375a4c5-087a-419a-9269-77223f2ca03e"
      },
      "execution_count": null,
      "outputs": [
        {
          "output_type": "stream",
          "name": "stdout",
          "text": [
            "\n"
          ]
        },
        {
          "output_type": "display_data",
          "data": {
            "text/plain": [
              "<IPython.core.display.HTML object>"
            ],
            "text/html": [
              "\n",
              "    <button onclick=\"google.colab.kernel.invokeFunction('notebook.runTest', ['exo11'], {})\">\n",
              "        ✅ Run test for exercise 11\n",
              "    </button>\n"
            ]
          },
          "metadata": {}
        }
      ]
    },
    {
      "cell_type": "markdown",
      "source": [
        "---\n",
        "\n",
        "### **Exercise 12 (Hard)**\n",
        "\n",
        "---\n",
        "\n",
        "- (a) Create a dictionary where keys are student names `\"John\"`, `\"Emma\"`, and `\"Lucas\"`, and values are dictionaries representing their grades in `\"math\"` and `\"sciences\"`.\n",
        "- The grades are: John: math `85`, science `92`; Emma: math `78`, science `88`; Lucas: math \"`90`\", science `95`.\n",
        "- (b) Add a new student `\"Sophie\"` with grades math `82` and science \"`91`\".\n",
        "- (c) Calculate the average math grade of all students.\n",
        "- (d) Print the updated dictionary and the average math grade.\n",
        "\n",
        "**Tip:** Use nested dictionaries and iterate over them to compute averages."
      ],
      "metadata": {
        "id": "VFa_f2B4dz5P"
      }
    },
    {
      "cell_type": "code",
      "source": [
        "# @title\n",
        "# Student code here\n",
        "\n",
        "# End of your code\n",
        "\n",
        "# DON'T MODIFY THIS CODE :\n",
        "print()  # add spacing\n",
        "display(HTML('''\n",
        "    <button onclick=\"google.colab.kernel.invokeFunction('notebook.runTest', ['exo12'], {})\">\n",
        "        ✅ Run test for exercise 12\n",
        "    </button>\n",
        "'''))"
      ],
      "metadata": {
        "colab": {
          "base_uri": "https://localhost:8080/",
          "height": 58
        },
        "id": "EvuID_qLeMnk",
        "outputId": "ac204582-ab56-45d0-8cd1-f7cb4d79b2e5"
      },
      "execution_count": null,
      "outputs": [
        {
          "output_type": "stream",
          "name": "stdout",
          "text": [
            "\n"
          ]
        },
        {
          "output_type": "display_data",
          "data": {
            "text/plain": [
              "<IPython.core.display.HTML object>"
            ],
            "text/html": [
              "\n",
              "    <button onclick=\"google.colab.kernel.invokeFunction('notebook.runTest', ['exo12'], {})\">\n",
              "        ✅ Run test for exercise 12\n",
              "    </button>\n"
            ]
          },
          "metadata": {}
        }
      ]
    }
  ]
}