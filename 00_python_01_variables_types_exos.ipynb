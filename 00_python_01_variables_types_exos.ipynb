{
  "nbformat": 4,
  "nbformat_minor": 0,
  "metadata": {
    "colab": {
      "provenance": [],
      "collapsed_sections": [
        "l0bUbD5rz8Ig"
      ],
      "authorship_tag": "ABX9TyPZ0/fZNDkiUQyRkUP0MRKJ",
      "include_colab_link": true
    },
    "kernelspec": {
      "name": "python3",
      "display_name": "Python 3"
    },
    "language_info": {
      "name": "python"
    }
  },
  "cells": [
    {
      "cell_type": "markdown",
      "metadata": {
        "id": "view-in-github",
        "colab_type": "text"
      },
      "source": [
        "<a href=\"https://colab.research.google.com/github/Maxencegu/python_course_upjv/blob/main/00_python_01_variables_types_exos.ipynb\" target=\"_parent\"><img src=\"https://colab.research.google.com/assets/colab-badge.svg\" alt=\"Open In Colab\"/></a>"
      ]
    },
    {
      "cell_type": "markdown",
      "source": [
        "---\n",
        "\n",
        "<center>\n",
        "\n",
        "# **Python for Data Science**\n",
        "\n",
        "### *Introduction: Variables and Types*\n",
        "\n",
        "</center>\n",
        "\n",
        "---\n"
      ],
      "metadata": {
        "id": "ZtnhbBaqi5XR"
      }
    },
    {
      "cell_type": "markdown",
      "source": [
        "## ⚙️ Initialization\n",
        "\n",
        "---\n",
        "\n",
        "Before starting, please **run the following cell once** to initialize the tests.  \n",
        "You need to do this **every time you open the notebook** (this loads the hidden tests).\n",
        "\n",
        "> ✅ Then, for each exercise, you can click on the \"Launch test\" button.\n"
      ],
      "metadata": {
        "id": "l0bUbD5rz8Ig"
      }
    },
    {
      "cell_type": "code",
      "source": [
        "# @title Initialization - Execute this cell ONCE at the start\n",
        "# ⚠️ DON'T MODIFY THIS CODE\n",
        "import os\n",
        "from IPython.display import display, Markdown,HTML\n",
        "from google.colab import output\n",
        "import subprocess\n",
        "\n",
        "# Remove the old hidden_tests file if it exists\n",
        "if os.path.exists(\"hidden_tests_00_python_01.py\"):\n",
        "    os.remove(\"hidden_tests_00_python_01.py\")\n",
        "\n",
        "# Download the latest version every time\n",
        "import subprocess\n",
        "subprocess.run([\n",
        "    \"wget\", \"-q\",\n",
        "    \"https://raw.githubusercontent.com/Maxencegu/python_course_upjv/main/hidden_tests_00_python_01.py\"\n",
        "])\n",
        "\n",
        "# Import the test functions\n",
        "from hidden_tests_00_python_01 import hidden_test_exo1, hidden_test_exo2, hidden_test_exo3, hidden_test_exo4, hidden_test_exo5, hidden_test_exo6, hidden_test_exo7, hidden_test_exo8, hidden_test_exo9, hidden_test_exo10, hidden_test_exo11, hidden_test_exo12\n",
        "\n",
        "# Generic callback function to run the test corresponding to the exercise name\n",
        "def _run_test(exo_name):\n",
        "    try:\n",
        "        g = globals()  # get student's variables dynamically\n",
        "        if exo_name == 'exo1':\n",
        "            result = hidden_test_exo1(g['first_name'], g['age'], g['message'])\n",
        "        elif exo_name == 'exo2':\n",
        "            result = hidden_test_exo2(g['a'], g['b'], g['c'], g['total'], g['average'])\n",
        "        elif exo_name == 'exo3':\n",
        "            result = hidden_test_exo3(g['message'], g['length'])\n",
        "        elif exo_name == 'exo4':\n",
        "            result = hidden_test_exo4(g['number_1'], g['number_2'], g['sum_result'], g['diff_result'], g['prod_result'], g['quot_result'], g['rem_result'])\n",
        "        elif exo_name == 'exo5':\n",
        "            result = hidden_test_exo5(g['colors'])\n",
        "        elif exo_name == 'exo6':\n",
        "            result = hidden_test_exo6(g['numbers'], g['even_numbers'])\n",
        "        elif exo_name == 'exo7':\n",
        "            result = hidden_test_exo7(g['numbers'], g['sum_of_numbers'])\n",
        "        elif exo_name == 'exo8':\n",
        "            result = hidden_test_exo8(g['values'], g['squared'], g['average'])\n",
        "        elif exo_name == 'exo9':\n",
        "            result = hidden_test_exo9(g['person'])\n",
        "        elif exo_name == 'exo10':\n",
        "            result = hidden_test_exo10(g['grades'], g['average'])\n",
        "        elif exo_name == 'exo11':\n",
        "            result = hidden_test_exo11(g['inventory'], g['removed_quantity'])\n",
        "        elif exo_name == 'exo12':\n",
        "            result = hidden_test_exo12(g['students'], g['avg_math_grade'])\n",
        "        else:\n",
        "            result = \"❌ Unknown exercise.\"\n",
        "        display(Markdown(result))\n",
        "    except NameError as e:\n",
        "        display(Markdown(f\"❌ Missing variable: `{e}`\"))\n",
        "    except Exception as e:\n",
        "        display(Markdown(f\"❌ Error while running test for {exo_name}: `{e}`\"))\n",
        "\n",
        "# Register the callback in Colab\n",
        "output.register_callback('notebook.runTest', _run_test)\n",
        "\n",
        "print(\"✅ Initialization complete! You can now run your exercises and test them using the buttons below each exercise.\")"
      ],
      "metadata": {
        "id": "fWKGik6c0CVS",
        "colab": {
          "base_uri": "https://localhost:8080/"
        },
        "outputId": "a63087e2-2037-4b47-88cd-fa591440d6f9",
        "cellView": "form"
      },
      "execution_count": 1,
      "outputs": [
        {
          "output_type": "stream",
          "name": "stdout",
          "text": [
            "✅ Initialization complete! You can now run your exercises and test them using the buttons below each exercise.\n"
          ]
        }
      ]
    },
    {
      "cell_type": "markdown",
      "source": [
        "---\n",
        "\n",
        "<center>\n",
        "\n",
        "## **Variables**\n",
        "\n",
        "</center>\n",
        "\n",
        "---"
      ],
      "metadata": {
        "id": "1UhsEcNZncN-"
      }
    },
    {
      "cell_type": "code",
      "source": [
        "# @title Exercise 1 (Easy) - Introduction to Variables and String Formatting\n",
        "\n",
        "# (a) Create a variable called `first_name` and store your first name.\n",
        "# (b) Create a variable called `age` and store YOUR age.\n",
        "# (c) Create a variable called `message` that contains the following message: `\"Hello, my name is <first_name> et I am <age> years old,\"`\n",
        "# (d) Print the message\n",
        "\n",
        "# Student code starts here\n",
        "\n",
        "# Student code ends here\n",
        "\n",
        "# DON'T MODIFY THIS CODE :\n",
        "# Button to launch tests for this exercise\n",
        "print()\n",
        "display(HTML('''\n",
        "    <button onclick=\"google.colab.kernel.invokeFunction('notebook.runTest', ['exo1'], {})\">\n",
        "        ✅ Run test for exercise 1\n",
        "    </button>\n",
        "'''))"
      ],
      "metadata": {
        "id": "ZngNPhcIls_e",
        "colab": {
          "base_uri": "https://localhost:8080/",
          "height": 58
        },
        "outputId": "07908e4c-3ae2-49b6-9e1e-f69f4c498ddd"
      },
      "execution_count": 2,
      "outputs": [
        {
          "output_type": "stream",
          "name": "stdout",
          "text": [
            "\n"
          ]
        },
        {
          "output_type": "display_data",
          "data": {
            "text/plain": [
              "<IPython.core.display.HTML object>"
            ],
            "text/html": [
              "\n",
              "    <button onclick=\"google.colab.kernel.invokeFunction('notebook.runTest', ['exo1'], {})\">\n",
              "        ✅ Run test for exercise 1\n",
              "    </button>\n"
            ]
          },
          "metadata": {}
        }
      ]
    },
    {
      "cell_type": "code",
      "source": [
        "# @title Exercise 2 (Medium) - Guess the Operation\n",
        "\n",
        "# (a) Create three variables: `a = 5`, `b = 10`, and `d = 15`.\n",
        "# (b) Calculate and display their `A deviner`.\n",
        "# (c) Calculate and display their `A deviner`.\n",
        "\n",
        "# Student code starts here\n",
        "\n",
        "# Student code ends here\n",
        "\n",
        "# DON'T MODIFY THIS CODE :\n",
        "print()\n",
        "display(HTML('''\n",
        "    <button onclick=\"google.colab.kernel.invokeFunction('notebook.runTest', ['exo2'], {})\">\n",
        "        ✅ Run test for exercise 2\n",
        "    </button>\n",
        "'''))"
      ],
      "metadata": {
        "id": "SR9Vcxgpm5Kn",
        "colab": {
          "base_uri": "https://localhost:8080/",
          "height": 58
        },
        "outputId": "44017be7-8c32-4159-b27c-b08243e3c94e"
      },
      "execution_count": 3,
      "outputs": [
        {
          "output_type": "stream",
          "name": "stdout",
          "text": [
            "\n"
          ]
        },
        {
          "output_type": "display_data",
          "data": {
            "text/plain": [
              "<IPython.core.display.HTML object>"
            ],
            "text/html": [
              "\n",
              "    <button onclick=\"google.colab.kernel.invokeFunction('notebook.runTest', ['exo2'], {})\">\n",
              "        ✅ Run test for exercise 2\n",
              "    </button>\n"
            ]
          },
          "metadata": {}
        }
      ]
    },
    {
      "cell_type": "code",
      "source": [
        "# @title Exercise 3 (Intermediate) - String Length and Display\n",
        "\n",
        "# (a) Create a variable containing the string: \"Python for l Data Science\".\n",
        "# (b) Create a variable containing the length of this text.\n",
        "# (c) Display the text and its length.\n",
        "\n",
        "# Student code starts here\n",
        "\n",
        "# Student code ends here\n",
        "\n",
        "# DON'T MODIFY THIS CODE :\n",
        "print()  # add spacing\n",
        "display(HTML('''\n",
        "    <button onclick=\"google.colab.kernel.invokeFunction('notebook.runTest', ['exo3'], {})\">\n",
        "        ✅ Run test for exercise 3\n",
        "    </button>\n",
        "'''))\n"
      ],
      "metadata": {
        "colab": {
          "base_uri": "https://localhost:8080/",
          "height": 58
        },
        "id": "wwK3egEH0hRr",
        "outputId": "b91ee3af-1975-4aa5-f926-cae6180e97e6"
      },
      "execution_count": 4,
      "outputs": [
        {
          "output_type": "stream",
          "name": "stdout",
          "text": [
            "\n"
          ]
        },
        {
          "output_type": "display_data",
          "data": {
            "text/plain": [
              "<IPython.core.display.HTML object>"
            ],
            "text/html": [
              "\n",
              "    <button onclick=\"google.colab.kernel.invokeFunction('notebook.runTest', ['exo3'], {})\">\n",
              "        ✅ Run test for exercise 3\n",
              "    </button>\n"
            ]
          },
          "metadata": {}
        }
      ]
    },
    {
      "cell_type": "code",
      "source": [
        "# @title Exercise 4 (Harder) - Arithmetic Operations with Missing Steps\n",
        "\n",
        "# (a) Create two variables with the values `7` and `3`.\n",
        "# (b) Compute and display:\n",
        "#  - Their sum\n",
        "#  - Their difference\n",
        "#  - Their `A deviner`\n",
        "#  - Their quotient\n",
        "#  - Their `A deviner`\n",
        "# (c) Display each result in a clear sentence, for example: `\"The sum is: 10\"`.\n",
        "\n",
        "# Student code starts here\n",
        "\n",
        "# Student code ends here\n",
        "\n",
        "# DON'T MODIFY THIS CODE :\n",
        "print()  # add spacing\n",
        "display(HTML('''\n",
        "    <button onclick=\"google.colab.kernel.invokeFunction('notebook.runTest', ['exo4'], {})\">\n",
        "        ✅ Run test for exercise 4\n",
        "    </button>\n",
        "'''))"
      ],
      "metadata": {
        "colab": {
          "base_uri": "https://localhost:8080/",
          "height": 58
        },
        "id": "dNtBMlvWBoTs",
        "outputId": "393dfc3a-aa69-4259-e8f8-e678ae2aa937"
      },
      "execution_count": 5,
      "outputs": [
        {
          "output_type": "stream",
          "name": "stdout",
          "text": [
            "\n"
          ]
        },
        {
          "output_type": "display_data",
          "data": {
            "text/plain": [
              "<IPython.core.display.HTML object>"
            ],
            "text/html": [
              "\n",
              "    <button onclick=\"google.colab.kernel.invokeFunction('notebook.runTest', ['exo4'], {})\">\n",
              "        ✅ Run test for exercise 4\n",
              "    </button>\n"
            ]
          },
          "metadata": {}
        }
      ]
    },
    {
      "cell_type": "markdown",
      "source": [
        "---\n",
        "\n",
        "<center>\n",
        "\n",
        "## **Lists**\n",
        "\n",
        "</center>\n",
        "\n",
        "---"
      ],
      "metadata": {
        "id": "-1Van1HWJiZR"
      }
    },
    {
      "cell_type": "code",
      "source": [
        "# @title Exercise 5 (Easy) - Basic List Operations\n",
        "\n",
        "# (a) Create a list that contains the following strings: `\"red\"`, `\"blue\"`, and `\"green\"`.\n",
        "# (b) Add a color to the end of the list.\n",
        "# (c) Change the second element.\n",
        "# (d) Print the final list.\n",
        "\n",
        "# Student code starts here\n",
        "\n",
        "# Student code ends here\n",
        "\n",
        "# DON'T MODIFY THIS CODE :\n",
        "print()  # add spacing\n",
        "display(HTML('''\n",
        "    <button onclick=\"google.colab.kernel.invokeFunction('notebook.runTest', ['exo5'], {})\">\n",
        "        ✅ Run test for exercise 5\n",
        "    </button>\n",
        "'''))"
      ],
      "metadata": {
        "colab": {
          "base_uri": "https://localhost:8080/",
          "height": 58
        },
        "id": "bvFUG9mlJj1v",
        "outputId": "64196396-04c6-484f-e961-ecdf8f8e4874"
      },
      "execution_count": 6,
      "outputs": [
        {
          "output_type": "stream",
          "name": "stdout",
          "text": [
            "\n"
          ]
        },
        {
          "output_type": "display_data",
          "data": {
            "text/plain": [
              "<IPython.core.display.HTML object>"
            ],
            "text/html": [
              "\n",
              "    <button onclick=\"google.colab.kernel.invokeFunction('notebook.runTest', ['exo5'], {})\">\n",
              "        ✅ Run test for exercise 5\n",
              "    </button>\n"
            ]
          },
          "metadata": {}
        }
      ]
    },
    {
      "cell_type": "code",
      "source": [
        "# @title Exercise 6 (Medium) - Filtering Even Numbers from a List\n",
        "\n",
        "# (a) Create a list containing the integers from 1 to 10.\n",
        "# (b) Create another list that contains only the even numbers from the `number` list.\n",
        "# (c) Print both lists.\n",
        "\n",
        "# Student code starts here\n",
        "\n",
        "# Student code ends here\n",
        "\n",
        "# DON'T MODIFY THIS CODE :\n",
        "print()  # add spacing\n",
        "display(HTML('''\n",
        "    <button onclick=\"google.colab.kernel.invokeFunction('notebook.runTest', ['exo6'], {})\">\n",
        "        ✅ Run test for exercise 6\n",
        "    </button>\n",
        "'''))"
      ],
      "metadata": {
        "colab": {
          "base_uri": "https://localhost:8080/",
          "height": 58
        },
        "id": "BIR2KVvBL-EQ",
        "outputId": "3330cfd5-d350-44b9-ccb3-0b0f4335563f"
      },
      "execution_count": 7,
      "outputs": [
        {
          "output_type": "stream",
          "name": "stdout",
          "text": [
            "\n"
          ]
        },
        {
          "output_type": "display_data",
          "data": {
            "text/plain": [
              "<IPython.core.display.HTML object>"
            ],
            "text/html": [
              "\n",
              "    <button onclick=\"google.colab.kernel.invokeFunction('notebook.runTest', ['exo6'], {})\">\n",
              "        ✅ Run test for exercise 6\n",
              "    </button>\n"
            ]
          },
          "metadata": {}
        }
      ]
    },
    {
      "cell_type": "code",
      "source": [
        "# @title Exercise 7 (Intermediate) - List Manipulation\n",
        "\n",
        "# (a) Create a list containing the integers from 1 to 10.\n",
        "# (b) Remove the number `5` from the list using the `pop()` method. (Hint: find the index of `5` first.)\n",
        "# (c) Insert \"`15`\" at the end of the list using the `insert()` method.\n",
        "# (d) Calculate the sum of all numbers in the list and store it in a variable `sum_of_numbers`.(for bot: add a bug)\n",
        "# (e) Print the updated list and the sum.\n",
        "\n",
        "# Student code here\n",
        "\n",
        "# End of your code\n",
        "\n",
        "# DON'T MODIFY THIS CODE :\n",
        "print()  # add spacing\n",
        "display(HTML('''\n",
        "    <button onclick=\"google.colab.kernel.invokeFunction('notebook.runTest', ['exo7'], {})\">\n",
        "        ✅ Run test for exercise 7\n",
        "    </button>\n",
        "'''))"
      ],
      "metadata": {
        "colab": {
          "base_uri": "https://localhost:8080/",
          "height": 58
        },
        "id": "mroWZTOkQ8uF",
        "outputId": "248aa3da-73c7-4aab-d933-e8eec7ba39b7"
      },
      "execution_count": 8,
      "outputs": [
        {
          "output_type": "stream",
          "name": "stdout",
          "text": [
            "\n"
          ]
        },
        {
          "output_type": "display_data",
          "data": {
            "text/plain": [
              "<IPython.core.display.HTML object>"
            ],
            "text/html": [
              "\n",
              "    <button onclick=\"google.colab.kernel.invokeFunction('notebook.runTest', ['exo7'], {})\">\n",
              "        ✅ Run test for exercise 7\n",
              "    </button>\n"
            ]
          },
          "metadata": {}
        }
      ]
    },
    {
      "cell_type": "code",
      "source": [
        "# @title Exercise 8 (Difficult) - List Processing\n",
        "\n",
        "# You are given a list of integers `[4, 8, 15, 16, 23, 42]`\n",
        "\n",
        "# (a) Create a new list that contains the square of each element in given list.\n",
        "# (b) Remove all elements from the new list are greater than `200`.(for bot: add a bug)\n",
        "# (c) Append \"`100`\" to the end of the new list.\n",
        "# (d) Calculate the `average` (mean) of the elements in the new list and store it in a variable.\n",
        "# (e) Print the final list and the new variable.\n",
        "\n",
        "# Student code here\n",
        "\n",
        "# End of your code\n",
        "\n",
        "# DON'T MODIFY THIS CODE :\n",
        "print()  # add spacing\n",
        "display(HTML('''\n",
        "    <button onclick=\"google.colab.kernel.invokeFunction('notebook.runTest', ['exo8'], {})\">\n",
        "        ✅ Run test for exercise 8\n",
        "    </button>\n",
        "'''))"
      ],
      "metadata": {
        "colab": {
          "base_uri": "https://localhost:8080/",
          "height": 58
        },
        "id": "sAEdoPPeTZf3",
        "outputId": "f57a43fe-f5dd-4c25-b2fd-e600084dbf2d"
      },
      "execution_count": 9,
      "outputs": [
        {
          "output_type": "stream",
          "name": "stdout",
          "text": [
            "\n"
          ]
        },
        {
          "output_type": "display_data",
          "data": {
            "text/plain": [
              "<IPython.core.display.HTML object>"
            ],
            "text/html": [
              "\n",
              "    <button onclick=\"google.colab.kernel.invokeFunction('notebook.runTest', ['exo8'], {})\">\n",
              "        ✅ Run test for exercise 8\n",
              "    </button>\n"
            ]
          },
          "metadata": {}
        }
      ]
    },
    {
      "cell_type": "markdown",
      "source": [
        "---\n",
        "\n",
        "<center>\n",
        "\n",
        "## **Dictionaries**\n",
        "\n",
        "</center>\n",
        "\n",
        "---"
      ],
      "metadata": {
        "id": "NiA_t3x9bpve"
      }
    },
    {
      "cell_type": "code",
      "source": [
        "# @title Exercise 9 (Easy) - Basic Dictionary Operations\n",
        "\n",
        "# (a) Create a dictionary called `person` with the following key-value pairs: `\"nam\"`: `\"Alice\"`, `\"age\"`: 20.\n",
        "# (b) Print the value associated with the key `\"nam\"`.\n",
        "# (c) Add a new key `\"city\"` with the value `\"Parie\"` to the dictionary.\n",
        "# (d) Print the updated dictionary.\n",
        "\n",
        "# Student code here\n",
        "\n",
        "# End of your code\n",
        "\n",
        "# DON'T MODIFY THIS CODE :\n",
        "print()  # add spacing\n",
        "display(HTML('''\n",
        "    <button onclick=\"google.colab.kernel.invokeFunction('notebook.runTest', ['exo9'], {})\">\n",
        "        ✅ Run test for exercise 9\n",
        "    </button>\n",
        "'''))"
      ],
      "metadata": {
        "colab": {
          "base_uri": "https://localhost:8080/",
          "height": 58
        },
        "id": "3x9WcvgXbsUv",
        "outputId": "e2275833-67b8-4b69-db8d-ce64a2592566"
      },
      "execution_count": 10,
      "outputs": [
        {
          "output_type": "stream",
          "name": "stdout",
          "text": [
            "\n"
          ]
        },
        {
          "output_type": "display_data",
          "data": {
            "text/plain": [
              "<IPython.core.display.HTML object>"
            ],
            "text/html": [
              "\n",
              "    <button onclick=\"google.colab.kernel.invokeFunction('notebook.runTest', ['exo9'], {})\">\n",
              "        ✅ Run test for exercise 9\n",
              "    </button>\n"
            ]
          },
          "metadata": {}
        }
      ]
    },
    {
      "cell_type": "code",
      "source": [
        "# @title Exercise 10 (Medium) -\n",
        "\n",
        "# (a) Create a dictionary with keys `\"math\"`, `\"science\"`, and `\"histoire\"` and values `85`, `90`, and `78` respectively.\n",
        "# (b) Calculate the average grade and store it in a variable.\n",
        "# (c) Add a new key `\"english\"` with the value '`88`'.\n",
        "# (d) Print the updated dictionary and the average grade.\n",
        "\n",
        "# Student code here\n",
        "\n",
        "# End of your code\n",
        "\n",
        "# DON'T MODIFY THIS CODE :\n",
        "print()  # add spacing\n",
        "display(HTML('''\n",
        "    <button onclick=\"google.colab.kernel.invokeFunction('notebook.runTest', ['exo10'], {})\">\n",
        "        ✅ Run test for exercise 10\n",
        "    </button>\n",
        "'''))"
      ],
      "metadata": {
        "colab": {
          "base_uri": "https://localhost:8080/",
          "height": 58
        },
        "id": "FTagRMc8dDTn",
        "outputId": "5e132563-e3bc-4d6a-f14c-0e6b17aa5b37"
      },
      "execution_count": 11,
      "outputs": [
        {
          "output_type": "stream",
          "name": "stdout",
          "text": [
            "\n"
          ]
        },
        {
          "output_type": "display_data",
          "data": {
            "text/plain": [
              "<IPython.core.display.HTML object>"
            ],
            "text/html": [
              "\n",
              "    <button onclick=\"google.colab.kernel.invokeFunction('notebook.runTest', ['exo10'], {})\">\n",
              "        ✅ Run test for exercise 10\n",
              "    </button>\n"
            ]
          },
          "metadata": {}
        }
      ]
    },
    {
      "cell_type": "code",
      "source": [
        "# @title Exercise 11 (Intermediate) -\n",
        "\n",
        "# (a) Create a dictionary with keys `\"apples\"`, `\"orange\"`, `\"bananas\"` and values `5`, `3`, and '`8`'.\n",
        "# (b) Remove `\"oranges\"` from the dictionary using a dictionary method, and save its value to a variable `removed_quantity`.\n",
        "# (c) Add a value to the count of `\"apples\"`.\n",
        "# (d) Print the updated dictionary and the removed quantity.\n",
        "\n",
        "# Student code here\n",
        "\n",
        "# End of your code\n",
        "\n",
        "# DON'T MODIFY THIS CODE :\n",
        "print()  # add spacing\n",
        "display(HTML('''\n",
        "    <button onclick=\"google.colab.kernel.invokeFunction('notebook.runTest', ['exo11'], {})\">\n",
        "        ✅ Run test for exercise 11\n",
        "    </button>\n",
        "'''))"
      ],
      "metadata": {
        "colab": {
          "base_uri": "https://localhost:8080/",
          "height": 58
        },
        "id": "HIVv_wqGdqMI",
        "outputId": "76cd6cff-7eb6-4711-981d-3cbea98969fd"
      },
      "execution_count": 12,
      "outputs": [
        {
          "output_type": "stream",
          "name": "stdout",
          "text": [
            "\n"
          ]
        },
        {
          "output_type": "display_data",
          "data": {
            "text/plain": [
              "<IPython.core.display.HTML object>"
            ],
            "text/html": [
              "\n",
              "    <button onclick=\"google.colab.kernel.invokeFunction('notebook.runTest', ['exo11'], {})\">\n",
              "        ✅ Run test for exercise 11\n",
              "    </button>\n"
            ]
          },
          "metadata": {}
        }
      ]
    },
    {
      "cell_type": "code",
      "source": [
        "# @title Exercise 12 (Hard) -\n",
        "\n",
        "# (a) Create a dictionary where keys are student names `\"John\"`, `\"Emma\"`, and `\"Lucas\"`, and values are dictionaries representing their grades in `\"math\"` and `\"sciences\"`.\n",
        "#  - The grades are: John: math `85`, science `92`; Emma: math `78`, science `88`; Lucas: math \"`90`\", science `95`.\n",
        "# (b) Add a new student `\"Sophie\"` with grades math `82` and science \"`91`\".\n",
        "# (c) Calculate the average math grade of all students.\n",
        "# (d) Print the updated dictionary and the average math grade.\n",
        "\n",
        "# Student code here\n",
        "\n",
        "# End of your code\n",
        "\n",
        "# DON'T MODIFY THIS CODE :\n",
        "print()  # add spacing\n",
        "display(HTML('''\n",
        "    <button onclick=\"google.colab.kernel.invokeFunction('notebook.runTest', ['exo12'], {})\">\n",
        "        ✅ Run test for exercise 12\n",
        "    </button>\n",
        "'''))"
      ],
      "metadata": {
        "colab": {
          "base_uri": "https://localhost:8080/",
          "height": 58
        },
        "id": "EvuID_qLeMnk",
        "outputId": "38cd41de-7856-4d41-bbaf-808c4b10324c"
      },
      "execution_count": 13,
      "outputs": [
        {
          "output_type": "stream",
          "name": "stdout",
          "text": [
            "\n"
          ]
        },
        {
          "output_type": "display_data",
          "data": {
            "text/plain": [
              "<IPython.core.display.HTML object>"
            ],
            "text/html": [
              "\n",
              "    <button onclick=\"google.colab.kernel.invokeFunction('notebook.runTest', ['exo12'], {})\">\n",
              "        ✅ Run test for exercise 12\n",
              "    </button>\n"
            ]
          },
          "metadata": {}
        }
      ]
    }
  ]
}