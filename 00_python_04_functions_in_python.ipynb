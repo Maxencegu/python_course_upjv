{
  "nbformat": 4,
  "nbformat_minor": 0,
  "metadata": {
    "colab": {
      "provenance": [],
      "collapsed_sections": [
        "Nq7CUJw7adxE",
        "23n4ULGUmwG9",
        "RZRN3xTKpMej"
      ],
      "authorship_tag": "ABX9TyOLjiqNbMMplDKcoNgplGPY",
      "include_colab_link": true
    },
    "kernelspec": {
      "name": "python3",
      "display_name": "Python 3"
    },
    "language_info": {
      "name": "python"
    }
  },
  "cells": [
    {
      "cell_type": "markdown",
      "metadata": {
        "id": "view-in-github",
        "colab_type": "text"
      },
      "source": [
        "<a href=\"https://colab.research.google.com/github/Maxencegu/python_course_upjv/blob/main/00_python_04_functions_in_python.ipynb\" target=\"_parent\"><img src=\"https://colab.research.google.com/assets/colab-badge.svg\" alt=\"Open In Colab\"/></a>"
      ]
    },
    {
      "cell_type": "markdown",
      "source": [
        "---\n",
        "\n",
        "<center>\n",
        "\n",
        "# **Python for Data Science**\n",
        "\n",
        "### *Functions in python*\n",
        "\n",
        "</center>\n",
        "\n",
        "---"
      ],
      "metadata": {
        "id": "_HBssC4xaN8u"
      }
    },
    {
      "cell_type": "markdown",
      "source": [
        "<center>\n",
        "\n",
        "## **📖 The functions**\n",
        "\n",
        "</center>\n",
        "\n",
        "---"
      ],
      "metadata": {
        "id": "Nq7CUJw7adxE"
      }
    },
    {
      "cell_type": "markdown",
      "source": [
        "A function in Python is a reusable block of code that performs a specific task.\n",
        "\n",
        "Python provides built-in functions, such as:\n",
        "\n",
        "- `print()`: Displays a value or object.\n",
        "- `range()`: Creates a sequence of integers.\n",
        "\n",
        "We don’t need to know the internal code of these functions to use them.\n",
        "Their output depends only on the input values (parameters) we provide.\n",
        "\n",
        "**Creating your own function**\n",
        "\n",
        "You can define custom functions that can be reused.\n",
        "The general structure is:\n",
        "\n",
        "```python\n",
        "def function_name(parameter):\n",
        "    # Block of instructions\n",
        "    ...\n",
        "    ...\n",
        "    ...\n",
        "    # The result of the function\n",
        "    return result\n",
        "```\n",
        "\n",
        "The `return` keyword specifies the output of the function and **ends the function execution**.\n",
        "Any code after `return` inside the function will not be executed.\n",
        "\n",
        "**check if a number is even**\n",
        "\n",
        "```python\n",
        "def is_even(number):\n",
        "    # Check if the number is divisible by 2\n",
        "    if number % 2 == 0:\n",
        "        return True\n",
        "    else:\n",
        "        return False\n",
        "```\n",
        "\n",
        "This function takes a `number` as input, stored temporarily in number.\n",
        "After the function finishes, the variable `number` is discarded.\n",
        "\n",
        "**Calling a function with arguments**\n",
        "\n",
        "```python\n",
        "print(is_even(number=3))\n",
        ">>> False\n",
        "\n",
        "print(is_even(number=100))\n",
        ">>> True\n",
        "\n",
        "print(is_even(number=-2))\n",
        ">>> True\n",
        "```\n",
        "\n",
        "You can also call the function without naming the arguments:\n",
        "\n",
        "```python\n",
        "print(is_even(-4))\n",
        ">>> True\n",
        "```"
      ],
      "metadata": {
        "id": "XF5vgm5ra0np"
      }
    },
    {
      "cell_type": "markdown",
      "source": [
        "---\n",
        "\n",
        "<center>\n",
        "\n",
        "### **🔍 Example : doubling a Number**\n",
        "\n",
        "</center>\n",
        "\n",
        "---\n",
        "\n",
        "- (a) : Implement a function named `double` that takes a number as input and returns its double.\n",
        "- (b) : Use this function to calculate the double of `4`:"
      ],
      "metadata": {
        "id": "s7U4MEwlcN7y"
      }
    },
    {
      "cell_type": "code",
      "execution_count": 2,
      "metadata": {
        "colab": {
          "base_uri": "https://localhost:8080/"
        },
        "id": "1Fa0Hf9HZ1aG",
        "outputId": "c3d15028-51ef-414b-9fd2-3f58b0ae057b"
      },
      "outputs": [
        {
          "output_type": "stream",
          "name": "stdout",
          "text": [
            "8\n"
          ]
        }
      ],
      "source": [
        "def double(x):\n",
        "    # Multiply the input by 2\n",
        "    return x * 2\n",
        "\n",
        "result = double(4)\n",
        "print(result)"
      ]
    },
    {
      "cell_type": "markdown",
      "source": [
        "---\n",
        "\n",
        "<center>\n",
        "\n",
        "### **🔍 Example : summing Numbers in a List**\n",
        "\n",
        "</center>\n",
        "\n",
        "---\n",
        "\n",
        "- (a) : Define a function named `sum_list` that takes a list of numbers as input and calculates the sum of all numbers using a loop.\n",
        "- (b) : Evaluate this function on the list `[2, 3, 1]`:"
      ],
      "metadata": {
        "id": "Z5cpL_K5c94f"
      }
    },
    {
      "cell_type": "code",
      "source": [
        "def sum_list(numbers):\n",
        "    total = 0\n",
        "    for num in numbers:\n",
        "        total += num\n",
        "    return total\n",
        "\n",
        "result = sum_list([2, 3, 1])\n",
        "print(result)"
      ],
      "metadata": {
        "colab": {
          "base_uri": "https://localhost:8080/"
        },
        "id": "w30bOpq4cqk5",
        "outputId": "6fc80522-089f-4710-a9cd-be4cfd45f51f"
      },
      "execution_count": 3,
      "outputs": [
        {
          "output_type": "stream",
          "name": "stdout",
          "text": [
            "6\n"
          ]
        }
      ]
    },
    {
      "cell_type": "markdown",
      "source": [
        "---\n",
        "\n",
        "<center>\n",
        "\n",
        "### **🔍 Example : product of Numbers in a List**\n",
        "\n",
        "</center>\n",
        "\n",
        "---\n",
        "\n",
        "- (a) : Write a function named `list_product` that takes a list of numbers as input and calculates the product of all numbers using a loop.\n",
        "- (b) : Evaluate this function on the list `[1, 0.12, -54, 12, 0.33, 12]`:"
      ],
      "metadata": {
        "id": "XWGEb4wVdkCm"
      }
    },
    {
      "cell_type": "code",
      "source": [
        "def list_product(numbers):\n",
        "    product = 1\n",
        "    for num in numbers:\n",
        "        product *= num\n",
        "    return product\n",
        "\n",
        "result = list_product([1, 0.12, -54, 12, 0.33, 12])\n",
        "print(result)"
      ],
      "metadata": {
        "colab": {
          "base_uri": "https://localhost:8080/"
        },
        "id": "DRvSjXmqdX8u",
        "outputId": "17b001eb-326c-434d-d5c7-3901ebbb60ed"
      },
      "execution_count": 4,
      "outputs": [
        {
          "output_type": "stream",
          "name": "stdout",
          "text": [
            "-307.9296\n"
          ]
        }
      ]
    },
    {
      "cell_type": "markdown",
      "source": [
        "---\n",
        "\n",
        "<center>\n",
        "\n",
        "### **🔍 Example : calculating Percentage Change**\n",
        "\n",
        "</center>\n",
        "\n",
        "---\n",
        "\n",
        "- (a) : Write a function named `variation` that takes an initial value and a final value as input, and returns the percentage change between the two.\n",
        "The percentage change is calculated as:\n",
        "\n",
        "$$\n",
        "\\text{percentage_change} = \\frac{\\text{final_value} - \\text{initial_value}}{\\text{initial_value}} \\times 100\n",
        "$$\n",
        "\n",
        "- (b) : Evaluate this function with an initial value of `2000` and a final value of `1000` :"
      ],
      "metadata": {
        "id": "IWfGvPvmeXQE"
      }
    },
    {
      "cell_type": "code",
      "source": [
        "def variation(initial_value, final_value):\n",
        "    return (final_value - initial_value) / initial_value * 100\n",
        "\n",
        "result = variation(2000, 1000)\n",
        "print(result)"
      ],
      "metadata": {
        "colab": {
          "base_uri": "https://localhost:8080/"
        },
        "id": "_cKg1FakeMpx",
        "outputId": "4d0e8246-2aea-4d5f-d5f8-eefa871eba22"
      },
      "execution_count": 5,
      "outputs": [
        {
          "output_type": "stream",
          "name": "stdout",
          "text": [
            "-50.0\n"
          ]
        }
      ]
    },
    {
      "cell_type": "markdown",
      "source": [
        "---\n",
        "\n",
        "<center>\n",
        "\n",
        "### **🔍 Example : squaring a Number**\n",
        "\n",
        "</center>\n",
        "\n",
        "---\n",
        "\n",
        "- (a) : Define a function named `f` that takes an integer n as input and returns the square of `n` ($n^2$).\n",
        "- (b) : Display the result of the function `f` for `n = 2` and `n = 15`:"
      ],
      "metadata": {
        "id": "hLmcDVy2fTCp"
      }
    },
    {
      "cell_type": "code",
      "source": [
        "def f(n):\n",
        "    return n**2\n",
        "\n",
        "print(f(2))\n",
        "print(f(15))"
      ],
      "metadata": {
        "colab": {
          "base_uri": "https://localhost:8080/"
        },
        "id": "6RVOo4VwfF36",
        "outputId": "d1645be1-6daa-425f-b3b3-59e1c6f97271"
      },
      "execution_count": 6,
      "outputs": [
        {
          "output_type": "stream",
          "name": "stdout",
          "text": [
            "4\n",
            "225\n"
          ]
        }
      ]
    },
    {
      "cell_type": "markdown",
      "source": [
        "### **Using Function Results in Other Code**\n",
        "\n",
        "The main advantage of a function is that you can store its result in a **variable** and use it later in your code—for example, **inside another function**.\n",
        "\n",
        "```python\n",
        "# Function f defined previously\n",
        "def f(n):\n",
        "    calculation = n**2\n",
        "    return calculation\n",
        "```\n",
        "\n",
        "You can now store the result of `f` in a variable:\n",
        "\n",
        "```python\n",
        "result = f(5)\n",
        "print(result)\n",
        ">>> 25\n",
        "```\n",
        "\n",
        "And use it later in other computations or functions:\n",
        "\n",
        "```python\n",
        "def add_five_squared(x):\n",
        "    # Use the result of f(x) in another function\n",
        "    return f(x) + 5\n",
        "\n",
        "print(add_five_squared(3))\n",
        ">>> 14  # because 3**2 + 5 = 9 + 5\n",
        "```\n"
      ],
      "metadata": {
        "id": "Y7nycL3Kgrcy"
      }
    },
    {
      "cell_type": "markdown",
      "source": [
        "---\n",
        "\n",
        "<center>\n",
        "\n",
        "### **🔍 Example : getting Unique Values from a List**\n",
        "\n",
        "</center>\n",
        "\n",
        "---\n",
        "\n",
        "- (a) : Write a function named `uniques` that takes a list as input and returns **a new list containing the distinct values** from the original list.\n",
        "\n",
        "`Note: \"unique values\" here means distinct values, not \"values that appear only once\".`\n",
        "\n",
        "You can check if an element is in a list using the in operator:\n",
        "\n",
        "```python\n",
        "3 in [3, 1, 2]\n",
        ">>> True\n",
        "\n",
        "-1 in [3, 1, 2]\n",
        ">>> False\n",
        "```"
      ],
      "metadata": {
        "id": "b3-ePp3YhoiS"
      }
    },
    {
      "cell_type": "code",
      "source": [
        "def uniques(lst):\n",
        "    result = []\n",
        "    for item in lst:\n",
        "        if item not in result:\n",
        "            result.append(item)\n",
        "    return result\n",
        "\n",
        "print(uniques([1, 1, 2, 2, 2, 3, 3, \"Hello\"]))"
      ],
      "metadata": {
        "colab": {
          "base_uri": "https://localhost:8080/"
        },
        "id": "Dto_aB-JgSP1",
        "outputId": "00d187e8-426e-43e1-ed37-addb5dd4ddb9"
      },
      "execution_count": 7,
      "outputs": [
        {
          "output_type": "stream",
          "name": "stdout",
          "text": [
            "[1, 2, 3, 'Hello']\n"
          ]
        }
      ]
    },
    {
      "cell_type": "markdown",
      "source": [
        "---\n",
        "\n",
        "<center>\n",
        "\n",
        "### **🔍 Example : common Values Between Two Lists**\n",
        "\n",
        "</center>\n",
        "\n",
        "---\n",
        "\n",
        "- (a) : Write a function named `common_list` that takes two lists `l1` and `l2` as input, and returns a new list containing the values that are present in both lists.\n",
        "- (b) : Display the result of the function with."
      ],
      "metadata": {
        "id": "TS5lPHTxiizm"
      }
    },
    {
      "cell_type": "code",
      "source": [
        "def common_list(l1, l2):\n",
        "    result = []\n",
        "    for item in l1:\n",
        "        if item in l2 and item not in result:\n",
        "            result.append(item)\n",
        "    return result\n",
        "\n",
        "l1 = [2, 3, 4, 8, 11, 7]\n",
        "l2 = [2, 9, 10, 7]\n",
        "\n",
        "print(common_list(l1, l2))"
      ],
      "metadata": {
        "colab": {
          "base_uri": "https://localhost:8080/"
        },
        "id": "Vx3oLTdOiL7x",
        "outputId": "3bb8417f-6eea-4246-f3d4-1907a6468b13"
      },
      "execution_count": 9,
      "outputs": [
        {
          "output_type": "stream",
          "name": "stdout",
          "text": [
            "[2, 7]\n"
          ]
        }
      ]
    },
    {
      "cell_type": "markdown",
      "source": [
        "### **Functions with Multiple Parameters and Multiple Outputs**\n",
        "\n",
        "A function can have **multiple parameters** and **multiple outputs**.\n",
        "The general syntax is:\n",
        "\n",
        "```python\n",
        "def my_function(param1, param2, param3, ...):\n",
        "    # Block of instructions\n",
        "    ...\n",
        "    ...\n",
        "    ...\n",
        "    return output1, output2, output3, ...\n",
        "```\n",
        "\n",
        "When a function returns multiple outputs, the result is actually a **tuple**.\n",
        "We can use **tuple unpacking** to store the outputs in separate variables:\n",
        "\n",
        "```python\n",
        "# Define a function that returns the first and last element of a list\n",
        "def first_and_last(a_list):\n",
        "    return a_list[0], a_list[-1]\n",
        "\n",
        "# Use tuple unpacking to get the outputs of the function\n",
        "first, last = first_and_last([-2, 32, 31, 231, 4])\n",
        "\n",
        "# Display the results\n",
        "print(first)\n",
        ">>> -2\n",
        "\n",
        "print(last)\n",
        ">>> 4\n",
        "```"
      ],
      "metadata": {
        "id": "R_jVRyfmjdlz"
      }
    },
    {
      "cell_type": "markdown",
      "source": [
        "---\n",
        "\n",
        "<center>\n",
        "\n",
        "### **🔍 Example : powers and Differences**\n",
        "\n",
        "</center>\n",
        "\n",
        "---\n",
        "\n",
        "- (a) : Create a function named `power4` that takes a number x as input and returns the first four powers of this number ($x^1$,$x^2$,$x^3$,$x^4$):\n",
        "- (b) : Test this function with `x = 8` and store the results in `x_1`, `x_2`, `x_3`, `x_4`.\n",
        "- (c) : Create a function named `power_diff` that takes four numbers `x_1`, `x_2`, `x_3`, `x_4` and returns:\n",
        "  - the difference between `x_2` and `x_1`,\n",
        "  - the difference between `x_3` and `x_2`,\n",
        "  - the difference between `x_4` and `x_3`.\n",
        "- (d) : Test this function on the previously obtained values `x_1`, `x_2`, `x_3`, `x_4`."
      ],
      "metadata": {
        "id": "X0CF9xIxkCI_"
      }
    },
    {
      "cell_type": "code",
      "source": [
        "def power4(x):\n",
        "    return x**1, x**2, x**3, x**4\n",
        "\n",
        "x_1, x_2, x_3, x_4 = power4(8)\n",
        "print(x_1, x_2, x_3, x_4)\n",
        "\n",
        "def power_diff(x_1, x_2, x_3, x_4):\n",
        "    return x_2 - x_1, x_3 - x_2, x_4 - x_3\n",
        "\n",
        "diff1, diff2, diff3 = power_diff(x_1, x_2, x_3, x_4)\n",
        "print(diff1, diff2, diff3)"
      ],
      "metadata": {
        "colab": {
          "base_uri": "https://localhost:8080/"
        },
        "id": "M4UGvnSbjH3k",
        "outputId": "827c2e6d-1868-4014-ba52-0a1655f3ec6a"
      },
      "execution_count": 10,
      "outputs": [
        {
          "output_type": "stream",
          "name": "stdout",
          "text": [
            "8 64 512 4096\n",
            "56 448 3584\n"
          ]
        }
      ]
    },
    {
      "cell_type": "markdown",
      "source": [
        "### **Default Parameter Values in Functions**\n",
        "\n",
        "When calling a function, you don’t need to provide a value for a parameter if it has a default value.\n",
        "\n",
        "To assign a default value to a parameter, simply give it a value in the function definition:\n",
        "\n",
        "```python\n",
        "# Define a function that calculates the product of two numbers\n",
        "def product(a=0, b=1):\n",
        "    return a * b\n",
        "```\n",
        "\n",
        "Examples of calling the function:\n",
        "\n",
        "```python\n",
        "product(a=4)  # b takes its default value of 1\n",
        ">>> 4\n",
        "\n",
        "product(b=3)  # a takes its default value of 0\n",
        ">>> 0\n",
        "\n",
        "product(a=4, b=3)\n",
        ">>> 12\n",
        "```\n",
        "\n",
        "You don’t need to write the parameter names when calling a function, for example:\n",
        "\n",
        "```python\n",
        "product(3, 4)\n",
        ">>> 12\n",
        "```\n",
        "\n",
        "`Note: If you omit the parameter names, the arguments must follow the same order as in the function definition.`"
      ],
      "metadata": {
        "id": "mfoSFswNl5gE"
      }
    },
    {
      "cell_type": "markdown",
      "source": [
        "---\n",
        "\n",
        "<center>\n",
        "\n",
        "## **📖 Function Documentation**\n",
        "\n",
        "</center>\n",
        "\n",
        "---"
      ],
      "metadata": {
        "id": "23n4ULGUmwG9"
      }
    },
    {
      "cell_type": "markdown",
      "source": [
        "To share a function with other users, it is common to write a short description explaining how the function should be used.\n",
        "\n",
        "This description is called the function documentation (or docstring).\n",
        "\n",
        "Documentation is written at the beginning of a function definition using triple quotes `\"\"\"`:\n",
        "\n",
        "```python\n",
        "def sort_list(a_list, order=\"ascending\"):\n",
        "    \"\"\"\n",
        "    This function sorts a list according to the order specified by the 'order' argument.\n",
        "\n",
        "    Parameters:\n",
        "        a_list : the list to sort\n",
        "\n",
        "        order : must be \"ascending\" to sort the list in increasing order,\n",
        "                or \"descending\" to sort it in decreasing order\n",
        "\n",
        "    Returns:\n",
        "        The sorted list\n",
        "    \"\"\"\n",
        "    # Instructions to sort the list\n",
        "    if order == \"ascending\":\n",
        "        sorted_list = sorted(a_list)\n",
        "    else:\n",
        "        sorted_list = sorted(a_list, reverse=True)\n",
        "    \n",
        "    return sorted_list\n",
        "```\n",
        "\n",
        "The triple quotes `\"\"\"` mark the beginning and end of the documentation.\n",
        "\n",
        "You can display the documentation of a function using Python’s built-in help function:\n",
        "\n",
        "```python\n",
        "help(sort_list)\n",
        "```\n",
        "This will show the description and explain how to use the function."
      ],
      "metadata": {
        "id": "aPKlxEsTm1fZ"
      }
    },
    {
      "cell_type": "markdown",
      "source": [
        "---\n",
        "\n",
        "<center>\n",
        "\n",
        "### **🔍 Example : function Documentation Practice**\n",
        "\n",
        "</center>\n",
        "\n",
        "---\n",
        "\n",
        "- (a) : Display the documentation of Python’s built-in `len` function.\n",
        "\n",
        "`Note: A \"container\" refers to any object you can iterate over, such as a list, a tuple, a string, etc.`\n",
        "- (b) : Write a function named `total_len` that takes **a list of lists** as input and returns **the total number of elements in all the sublists**. Include a short documentation string describing its use.\n",
        "- (c) : Test the function on the following list:\n",
        "```python\n",
        "test_list = [\n",
        "    [1, 23, 1201, 21, 213, 2],\n",
        "    [2311, 12, 3, 4],\n",
        "    [11, 32, 1, 1, 2, 3, 3],\n",
        "    [1, 1, 1, 1, 1, 1, 1, 1, 1, 1, 1, 1, 1, 1]\n",
        "]\n",
        "```"
      ],
      "metadata": {
        "id": "2uR_lM4Kn5_g"
      }
    },
    {
      "cell_type": "code",
      "source": [
        "# help(len)\n",
        "\n",
        "def total_len(list_of_lists):\n",
        "    \"\"\"\n",
        "    This function calculates the total number of elements\n",
        "    in a list of lists.\n",
        "\n",
        "    Parameters:\n",
        "        list_of_lists : a list where each element is itself a list\n",
        "\n",
        "    Returns:\n",
        "        The total number of elements contained in all sublists\n",
        "    \"\"\"\n",
        "    total = 0\n",
        "    for sublist in list_of_lists:\n",
        "        total += len(sublist)\n",
        "    return total\n",
        "\n",
        "test_list = [\n",
        "    [1, 23, 1201, 21, 213, 2],\n",
        "    [2311, 12, 3, 4],\n",
        "    [11, 32, 1, 1, 2, 3, 3],\n",
        "    [1, 1, 1, 1, 1, 1, 1, 1, 1, 1, 1, 1, 1, 1]\n",
        "]\n",
        "\n",
        "print(total_len(test_list))"
      ],
      "metadata": {
        "colab": {
          "base_uri": "https://localhost:8080/"
        },
        "id": "rmUhp7__lrPC",
        "outputId": "1796ba06-e070-4b45-ea48-85286457785a"
      },
      "execution_count": 13,
      "outputs": [
        {
          "output_type": "stream",
          "name": "stdout",
          "text": [
            "31\n"
          ]
        }
      ]
    },
    {
      "cell_type": "markdown",
      "source": [
        "---\n",
        "\n",
        "<center>\n",
        "\n",
        "## **📖 Recursive Functions**\n",
        "\n",
        "</center>\n",
        "\n",
        "---"
      ],
      "metadata": {
        "id": "RZRN3xTKpMej"
      }
    },
    {
      "cell_type": "markdown",
      "source": [
        "Recursion is the property of a function **calling itself within its own definition**.\n",
        "\n",
        "This kind of syntax can solve certain problems very elegantly, but it is less commonly used in Python because it can be difficult to predict the final result of a recursive function.\n",
        "\n",
        "The idea of recursion is to **simplify a problem repeatedly until the solution becomes trivial**.\n",
        "\n",
        "---\n",
        "\n",
        "**Example: Counting handshakes**\n",
        "\n",
        "Suppose N people shake hands with each other. How many handshakes occur in total?\n",
        "\n",
        "- Consider that one person shakes hands with the other **N-1 people**.\n",
        "- Then, you only need to count handshakes among the remaining **N-1 people**.\n",
        "- Continue this process until there are only **2 people left**, which results in **1 handshake**.\n",
        "\n",
        "We can implement this in Python using a recursive function:\n",
        "\n",
        "```python\n",
        "def count_handshakes(N):\n",
        "    # Base case: only 2 people\n",
        "    if N == 2:\n",
        "        # Only one handshake possible\n",
        "        return 1\n",
        "    # Recursive case: N > 2\n",
        "    else:\n",
        "        # Count N-1 handshakes for this person + handshakes among remaining N-1 people\n",
        "        return (N - 1) + count_handshakes(N - 1)\n",
        "```\n",
        "\n",
        "Examples:\n",
        "\n",
        "```python\n",
        "count_handshakes(2)\n",
        ">>> 1\n",
        "\n",
        "count_handshakes(4)\n",
        ">>> 6\n",
        "```\n",
        "\n",
        "This recursive function provides a simple solution to the handshake problem."
      ],
      "metadata": {
        "id": "6ndIleC4pQVM"
      }
    },
    {
      "cell_type": "markdown",
      "source": [
        "---\n",
        "\n",
        "<center>\n",
        "\n",
        "### **🔍 Example : recursive Factorial Function**\n",
        "\n",
        "</center>\n",
        "\n",
        "---\n",
        "\n",
        "- (a) : Define a recursive function factorial that computes the factorial of a number n.\n",
        "\n",
        "$$n! = 1×2×⋯×n$$\n",
        "\n",
        "Notice the recurrence relation:\n",
        "\n",
        "$$n!=n×(n−1)!$$\n",
        "\n",
        "We assume that\n",
        "$$0!=1.$$\n",
        "- (b) : Compute $5!$ (should return 120):"
      ],
      "metadata": {
        "id": "XKTgeJu9qjZ-"
      }
    },
    {
      "cell_type": "code",
      "source": [
        "def factorial(n):\n",
        "    \"\"\"\n",
        "    Recursive function to compute the factorial of n.\n",
        "\n",
        "    Parameters:\n",
        "        n : non-negative integer\n",
        "\n",
        "    Returns:\n",
        "        n! (factorial of n)\n",
        "    \"\"\"\n",
        "    if n == 0:\n",
        "        return 1\n",
        "    else:\n",
        "        return n * factorial(n - 1)\n",
        "\n",
        "factorial(5)"
      ],
      "metadata": {
        "colab": {
          "base_uri": "https://localhost:8080/"
        },
        "id": "mN7lWbTOo4qZ",
        "outputId": "80e13401-1a0b-4bb4-8f12-08ee2d01de59"
      },
      "execution_count": 16,
      "outputs": [
        {
          "output_type": "execute_result",
          "data": {
            "text/plain": [
              "120"
            ]
          },
          "metadata": {},
          "execution_count": 16
        }
      ]
    },
    {
      "cell_type": "markdown",
      "source": [
        "---\n",
        "\n",
        "<center>\n",
        "\n",
        "### **🔍 Example : recursive Fibonacci Function**\n",
        "\n",
        "</center>\n",
        "\n",
        "---\n",
        "\n",
        "- (a) : Define a recursive function `fibonacci` that returns the n-th term of the Fibonacci sequence.\n",
        "\n",
        "Initial conditions:\n",
        "\n",
        "$$F(0)=0$$\n",
        "$$F(1)=1$$\n",
        "\n",
        "Recurrence relation for $n>1$:\n",
        "\n",
        "$$F(n)=F(n−1)+F(n−2)$$\n",
        "- (b) : Compute $F(10)$ (should return 55).:"
      ],
      "metadata": {
        "id": "JZdwswdusUfg"
      }
    },
    {
      "cell_type": "code",
      "source": [
        "def F(n):\n",
        "    if n == 0:\n",
        "        return 0\n",
        "    if n == 1:\n",
        "        return 1\n",
        "    return F(n-1) + F(n-2)\n",
        "\n",
        "print(F(10))"
      ],
      "metadata": {
        "colab": {
          "base_uri": "https://localhost:8080/"
        },
        "id": "uVoahbfrrvXg",
        "outputId": "0428b9df-f6ca-4d6f-ae8b-a0cccef4f1b4"
      },
      "execution_count": 17,
      "outputs": [
        {
          "output_type": "stream",
          "name": "stdout",
          "text": [
            "55\n"
          ]
        }
      ]
    }
  ]
}